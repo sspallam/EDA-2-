{
 "cells": [
  {
   "cell_type": "markdown",
   "metadata": {},
   "source": [
    "# Spark Funds Investment Analysis"
   ]
  },
  {
   "cell_type": "code",
   "execution_count": 1,
   "metadata": {},
   "outputs": [],
   "source": [
    "#### Investment Analysis\n",
    "\n",
    "#import pandas, numpyn matplotlib, seaborn, datetime, regular expressions \n",
    "import pandas as pd\n",
    "import numpy as np\n",
    "import matplotlib.pyplot as plt\n",
    "import seaborn as sns\n",
    "import datetime as dt\n",
    "import re\n",
    "\n",
    "#upload csv files companies and round2\n",
    "\n",
    "# cleanup the data in companies and check points in 1.1 Table \n",
    "\n",
    "# cleanup the data in round2 and check the points in 1.1 Table\n",
    "\n",
    "#merge both the dataframes to master_list and need to work on this master list \n"
   ]
  },
  {
   "cell_type": "markdown",
   "metadata": {},
   "source": [
    "## Checkpoint 1: Data Cleaning\n",
    "\n"
   ]
  },
  {
   "cell_type": "code",
   "execution_count": 2,
   "metadata": {},
   "outputs": [],
   "source": [
    "#setting up paths and file\n",
    "path = \"C:/Users/Sudhakar/Desktop/Python/Week5_Invenstment Analysis/\"\n",
    "\n",
    "company_file = path+\"companies.csv\"\n",
    "\n",
    "round2_file = path+\"rounds2.csv\"\n",
    "\n",
    "mapper_file = path+\"mapping.csv\"\n"
   ]
  },
  {
   "cell_type": "markdown",
   "metadata": {},
   "source": [
    "## Upload companies csv file and clean data "
   ]
  },
  {
   "cell_type": "code",
   "execution_count": 3,
   "metadata": {},
   "outputs": [
    {
     "data": {
      "text/plain": [
       "array(['/organization/-fame', '/organization/-qounter',\n",
       "       '/organization/-the-one-of-them-inc-', ...,\n",
       "       '/organization/ã\\x81eron', '/organization/ã\\x94asys-2',\n",
       "       '/organization/ä°novatiff-reklam-ve-tanä±tä±m-hizmetleri-tic'],\n",
       "      dtype=object)"
      ]
     },
     "execution_count": 3,
     "metadata": {},
     "output_type": "execute_result"
    }
   ],
   "source": [
    "#upload csv files companies \n",
    "\n",
    "companies = pd.read_csv(company_file ,sep=',', encoding='iso-8859-1', engine='python')\n",
    "\n",
    "# Convert permalink data to lower case to make easy for merging\n",
    "\n",
    "companies['permalink'] = companies['permalink'].str.lower()\n",
    "\n",
    "pd.unique(companies.permalink)"
   ]
  },
  {
   "cell_type": "code",
   "execution_count": 4,
   "metadata": {},
   "outputs": [
    {
     "name": "stdout",
     "output_type": "stream",
     "text": [
      "<class 'pandas.core.frame.DataFrame'>\n",
      "RangeIndex: 66368 entries, 0 to 66367\n",
      "Data columns (total 10 columns):\n",
      " #   Column         Non-Null Count  Dtype \n",
      "---  ------         --------------  ----- \n",
      " 0   permalink      66368 non-null  object\n",
      " 1   name           66367 non-null  object\n",
      " 2   homepage_url   61310 non-null  object\n",
      " 3   category_list  63220 non-null  object\n",
      " 4   status         66368 non-null  object\n",
      " 5   country_code   59410 non-null  object\n",
      " 6   state_code     57821 non-null  object\n",
      " 7   region         58338 non-null  object\n",
      " 8   city           58340 non-null  object\n",
      " 9   founded_at     51147 non-null  object\n",
      "dtypes: object(10)\n",
      "memory usage: 5.1+ MB\n"
     ]
    }
   ],
   "source": [
    "companies.info()"
   ]
  },
  {
   "cell_type": "code",
   "execution_count": 5,
   "metadata": {},
   "outputs": [
    {
     "data": {
      "text/html": [
       "<div>\n",
       "<style scoped>\n",
       "    .dataframe tbody tr th:only-of-type {\n",
       "        vertical-align: middle;\n",
       "    }\n",
       "\n",
       "    .dataframe tbody tr th {\n",
       "        vertical-align: top;\n",
       "    }\n",
       "\n",
       "    .dataframe thead th {\n",
       "        text-align: right;\n",
       "    }\n",
       "</style>\n",
       "<table border=\"1\" class=\"dataframe\">\n",
       "  <thead>\n",
       "    <tr style=\"text-align: right;\">\n",
       "      <th></th>\n",
       "      <th>permalink</th>\n",
       "      <th>name</th>\n",
       "      <th>homepage_url</th>\n",
       "      <th>category_list</th>\n",
       "      <th>status</th>\n",
       "      <th>country_code</th>\n",
       "      <th>state_code</th>\n",
       "      <th>region</th>\n",
       "      <th>city</th>\n",
       "      <th>founded_at</th>\n",
       "    </tr>\n",
       "  </thead>\n",
       "  <tbody>\n",
       "    <tr>\n",
       "      <th>count</th>\n",
       "      <td>66368</td>\n",
       "      <td>66367</td>\n",
       "      <td>61310</td>\n",
       "      <td>63220</td>\n",
       "      <td>66368</td>\n",
       "      <td>59410</td>\n",
       "      <td>57821</td>\n",
       "      <td>58338</td>\n",
       "      <td>58340</td>\n",
       "      <td>51147</td>\n",
       "    </tr>\n",
       "    <tr>\n",
       "      <th>unique</th>\n",
       "      <td>66368</td>\n",
       "      <td>66099</td>\n",
       "      <td>61191</td>\n",
       "      <td>27296</td>\n",
       "      <td>4</td>\n",
       "      <td>137</td>\n",
       "      <td>311</td>\n",
       "      <td>1092</td>\n",
       "      <td>5111</td>\n",
       "      <td>3978</td>\n",
       "    </tr>\n",
       "    <tr>\n",
       "      <th>top</th>\n",
       "      <td>/organization/priceonomics</td>\n",
       "      <td>#NAME?</td>\n",
       "      <td>http://www.askforoffer.com</td>\n",
       "      <td>Software</td>\n",
       "      <td>operating</td>\n",
       "      <td>USA</td>\n",
       "      <td>CA</td>\n",
       "      <td>SF Bay Area</td>\n",
       "      <td>San Francisco</td>\n",
       "      <td>01-01-2012</td>\n",
       "    </tr>\n",
       "    <tr>\n",
       "      <th>freq</th>\n",
       "      <td>1</td>\n",
       "      <td>4</td>\n",
       "      <td>5</td>\n",
       "      <td>3995</td>\n",
       "      <td>53034</td>\n",
       "      <td>37601</td>\n",
       "      <td>12900</td>\n",
       "      <td>8804</td>\n",
       "      <td>3526</td>\n",
       "      <td>2730</td>\n",
       "    </tr>\n",
       "  </tbody>\n",
       "</table>\n",
       "</div>"
      ],
      "text/plain": [
       "                         permalink    name                homepage_url  \\\n",
       "count                        66368   66367                       61310   \n",
       "unique                       66368   66099                       61191   \n",
       "top     /organization/priceonomics  #NAME?  http://www.askforoffer.com   \n",
       "freq                             1       4                           5   \n",
       "\n",
       "       category_list     status country_code state_code       region  \\\n",
       "count          63220      66368        59410      57821        58338   \n",
       "unique         27296          4          137        311         1092   \n",
       "top         Software  operating          USA         CA  SF Bay Area   \n",
       "freq            3995      53034        37601      12900         8804   \n",
       "\n",
       "                 city  founded_at  \n",
       "count           58340       51147  \n",
       "unique           5111        3978  \n",
       "top     San Francisco  01-01-2012  \n",
       "freq             3526        2730  "
      ]
     },
     "execution_count": 5,
     "metadata": {},
     "output_type": "execute_result"
    }
   ],
   "source": [
    "companies.describe()"
   ]
  },
  {
   "cell_type": "code",
   "execution_count": 6,
   "metadata": {},
   "outputs": [
    {
     "data": {
      "text/plain": [
       "permalink            0\n",
       "name                 1\n",
       "homepage_url      5058\n",
       "category_list     3148\n",
       "status               0\n",
       "country_code      6958\n",
       "state_code        8547\n",
       "region            8030\n",
       "city              8028\n",
       "founded_at       15221\n",
       "dtype: int64"
      ]
     },
     "execution_count": 6,
     "metadata": {},
     "output_type": "execute_result"
    }
   ],
   "source": [
    "companies.isnull().sum()"
   ]
  },
  {
   "cell_type": "code",
   "execution_count": 7,
   "metadata": {},
   "outputs": [
    {
     "data": {
      "text/html": [
       "<div>\n",
       "<style scoped>\n",
       "    .dataframe tbody tr th:only-of-type {\n",
       "        vertical-align: middle;\n",
       "    }\n",
       "\n",
       "    .dataframe tbody tr th {\n",
       "        vertical-align: top;\n",
       "    }\n",
       "\n",
       "    .dataframe thead th {\n",
       "        text-align: right;\n",
       "    }\n",
       "</style>\n",
       "<table border=\"1\" class=\"dataframe\">\n",
       "  <thead>\n",
       "    <tr style=\"text-align: right;\">\n",
       "      <th></th>\n",
       "      <th>permalink</th>\n",
       "      <th>name</th>\n",
       "      <th>category_list</th>\n",
       "      <th>status</th>\n",
       "      <th>country_code</th>\n",
       "    </tr>\n",
       "  </thead>\n",
       "  <tbody>\n",
       "    <tr>\n",
       "      <th>0</th>\n",
       "      <td>/organization/-fame</td>\n",
       "      <td>#fame</td>\n",
       "      <td>Media</td>\n",
       "      <td>operating</td>\n",
       "      <td>IND</td>\n",
       "    </tr>\n",
       "    <tr>\n",
       "      <th>1</th>\n",
       "      <td>/organization/-qounter</td>\n",
       "      <td>:Qounter</td>\n",
       "      <td>Application Platforms|Real Time|Social Network...</td>\n",
       "      <td>operating</td>\n",
       "      <td>USA</td>\n",
       "    </tr>\n",
       "    <tr>\n",
       "      <th>2</th>\n",
       "      <td>/organization/-the-one-of-them-inc-</td>\n",
       "      <td>(THE) ONE of THEM,Inc.</td>\n",
       "      <td>Apps|Games|Mobile</td>\n",
       "      <td>operating</td>\n",
       "      <td>NaN</td>\n",
       "    </tr>\n",
       "    <tr>\n",
       "      <th>3</th>\n",
       "      <td>/organization/0-6-com</td>\n",
       "      <td>0-6.com</td>\n",
       "      <td>Curated Web</td>\n",
       "      <td>operating</td>\n",
       "      <td>CHN</td>\n",
       "    </tr>\n",
       "    <tr>\n",
       "      <th>4</th>\n",
       "      <td>/organization/004-technologies</td>\n",
       "      <td>004 Technologies</td>\n",
       "      <td>Software</td>\n",
       "      <td>operating</td>\n",
       "      <td>USA</td>\n",
       "    </tr>\n",
       "  </tbody>\n",
       "</table>\n",
       "</div>"
      ],
      "text/plain": [
       "                             permalink                    name  \\\n",
       "0                  /organization/-fame                   #fame   \n",
       "1               /organization/-qounter                :Qounter   \n",
       "2  /organization/-the-one-of-them-inc-  (THE) ONE of THEM,Inc.   \n",
       "3                /organization/0-6-com                 0-6.com   \n",
       "4       /organization/004-technologies        004 Technologies   \n",
       "\n",
       "                                       category_list     status country_code  \n",
       "0                                              Media  operating          IND  \n",
       "1  Application Platforms|Real Time|Social Network...  operating          USA  \n",
       "2                                  Apps|Games|Mobile  operating          NaN  \n",
       "3                                        Curated Web  operating          CHN  \n",
       "4                                           Software  operating          USA  "
      ]
     },
     "execution_count": 7,
     "metadata": {},
     "output_type": "execute_result"
    }
   ],
   "source": [
    "# Drop unwanted columns with more null values\n",
    "\n",
    "companies = companies.drop(['founded_at'], axis = 1) \n",
    "companies = companies.drop(['city'], axis=1)\n",
    "companies = companies.drop(['state_code'], axis=1)\n",
    "companies = companies.drop(['region'], axis=1)\n",
    "companies = companies.drop(['homepage_url'], axis=1)\n",
    "\n",
    "companies.head()"
   ]
  },
  {
   "cell_type": "code",
   "execution_count": 8,
   "metadata": {},
   "outputs": [
    {
     "data": {
      "text/plain": [
       "array(['/organization/-fame', '/organization/-qounter',\n",
       "       '/organization/-the-one-of-them-inc-', ..., '/organization/eron',\n",
       "       '/organization/asys-2',\n",
       "       '/organization/novatiff-reklam-ve-tantm-hizmetleri-tic'],\n",
       "      dtype=object)"
      ]
     },
     "execution_count": 8,
     "metadata": {},
     "output_type": "execute_result"
    }
   ],
   "source": [
    "#cleaning permalink and name fields for ascii characters \n",
    "\n",
    "companies['permalink'] = companies[['permalink']].applymap(lambda x:x.encode('utf-8').decode('ascii','ignore'))\n",
    "companies['name'] = companies['name'].str.encode('utf-8').str.decode('ascii','ignore')\n",
    "\n",
    "\n",
    "pd.unique(companies.permalink)"
   ]
  },
  {
   "cell_type": "markdown",
   "metadata": {},
   "source": [
    "## Upload round2 csv and cleaning :"
   ]
  },
  {
   "cell_type": "code",
   "execution_count": 9,
   "metadata": {},
   "outputs": [
    {
     "data": {
      "text/plain": [
       "1                  /ORGANIZATION/-QOUNTER\n",
       "3     /ORGANIZATION/-THE-ONE-OF-THEM-INC-\n",
       "5          /ORGANIZATION/004-TECHNOLOGIES\n",
       "7     /ORGANIZATION/0NDINE-BIOMEDICAL-INC\n",
       "17                  /ORGANIZATION/1-4-ALL\n",
       "dtype: object"
      ]
     },
     "execution_count": 9,
     "metadata": {},
     "output_type": "execute_result"
    }
   ],
   "source": [
    "#upload csv files  round2\n",
    "round2 = pd.read_csv(round2_file ,sep=',', encoding='unicode_escape')\n",
    "\n",
    "#differnce in permalink before conversion \n",
    "df_diff = pd.concat([round2.company_permalink,companies.permalink]).drop_duplicates(keep=False)\n",
    "df_diff.head()"
   ]
  },
  {
   "cell_type": "code",
   "execution_count": 10,
   "metadata": {},
   "outputs": [
    {
     "data": {
      "text/html": [
       "<div>\n",
       "<style scoped>\n",
       "    .dataframe tbody tr th:only-of-type {\n",
       "        vertical-align: middle;\n",
       "    }\n",
       "\n",
       "    .dataframe tbody tr th {\n",
       "        vertical-align: top;\n",
       "    }\n",
       "\n",
       "    .dataframe thead th {\n",
       "        text-align: right;\n",
       "    }\n",
       "</style>\n",
       "<table border=\"1\" class=\"dataframe\">\n",
       "  <thead>\n",
       "    <tr style=\"text-align: right;\">\n",
       "      <th></th>\n",
       "      <th>company_permalink</th>\n",
       "      <th>funding_round_permalink</th>\n",
       "      <th>funding_round_type</th>\n",
       "      <th>funding_round_code</th>\n",
       "      <th>funded_at</th>\n",
       "      <th>raised_amount_usd</th>\n",
       "    </tr>\n",
       "  </thead>\n",
       "  <tbody>\n",
       "    <tr>\n",
       "      <th>0</th>\n",
       "      <td>/organization/-fame</td>\n",
       "      <td>/funding-round/9a01d05418af9f794eebff7ace91f638</td>\n",
       "      <td>venture</td>\n",
       "      <td>B</td>\n",
       "      <td>05-01-2015</td>\n",
       "      <td>10000000.0</td>\n",
       "    </tr>\n",
       "    <tr>\n",
       "      <th>1</th>\n",
       "      <td>/organization/-qounter</td>\n",
       "      <td>/funding-round/22dacff496eb7acb2b901dec1dfe5633</td>\n",
       "      <td>venture</td>\n",
       "      <td>A</td>\n",
       "      <td>14-10-2014</td>\n",
       "      <td>NaN</td>\n",
       "    </tr>\n",
       "    <tr>\n",
       "      <th>2</th>\n",
       "      <td>/organization/-qounter</td>\n",
       "      <td>/funding-round/b44fbb94153f6cdef13083530bb48030</td>\n",
       "      <td>seed</td>\n",
       "      <td>NaN</td>\n",
       "      <td>01-03-2014</td>\n",
       "      <td>700000.0</td>\n",
       "    </tr>\n",
       "    <tr>\n",
       "      <th>3</th>\n",
       "      <td>/organization/-the-one-of-them-inc-</td>\n",
       "      <td>/funding-round/650b8f704416801069bb178a1418776b</td>\n",
       "      <td>venture</td>\n",
       "      <td>B</td>\n",
       "      <td>30-01-2014</td>\n",
       "      <td>3406878.0</td>\n",
       "    </tr>\n",
       "    <tr>\n",
       "      <th>4</th>\n",
       "      <td>/organization/0-6-com</td>\n",
       "      <td>/funding-round/5727accaeaa57461bd22a9bdd945382d</td>\n",
       "      <td>venture</td>\n",
       "      <td>A</td>\n",
       "      <td>19-03-2008</td>\n",
       "      <td>2000000.0</td>\n",
       "    </tr>\n",
       "  </tbody>\n",
       "</table>\n",
       "</div>"
      ],
      "text/plain": [
       "                     company_permalink  \\\n",
       "0                  /organization/-fame   \n",
       "1               /organization/-qounter   \n",
       "2               /organization/-qounter   \n",
       "3  /organization/-the-one-of-them-inc-   \n",
       "4                /organization/0-6-com   \n",
       "\n",
       "                           funding_round_permalink funding_round_type  \\\n",
       "0  /funding-round/9a01d05418af9f794eebff7ace91f638            venture   \n",
       "1  /funding-round/22dacff496eb7acb2b901dec1dfe5633            venture   \n",
       "2  /funding-round/b44fbb94153f6cdef13083530bb48030               seed   \n",
       "3  /funding-round/650b8f704416801069bb178a1418776b            venture   \n",
       "4  /funding-round/5727accaeaa57461bd22a9bdd945382d            venture   \n",
       "\n",
       "  funding_round_code   funded_at  raised_amount_usd  \n",
       "0                  B  05-01-2015         10000000.0  \n",
       "1                  A  14-10-2014                NaN  \n",
       "2                NaN  01-03-2014           700000.0  \n",
       "3                  B  30-01-2014          3406878.0  \n",
       "4                  A  19-03-2008          2000000.0  "
      ]
     },
     "execution_count": 10,
     "metadata": {},
     "output_type": "execute_result"
    }
   ],
   "source": [
    "## cleaning round2_df data \n",
    "## ignoring ascii characters in company_permalink and funding_round_type columns \n",
    "\n",
    "round2['company_permalink'] = round2[['company_permalink']].applymap(lambda x:x.encode('utf-8').decode('ascii','ignore'))\n",
    "round2['funding_round_type'] = round2['funding_round_type'].str.encode('utf-8').str.decode('ascii','ignore')\n",
    "\n",
    "#converting to lower case for making easy for merging\n",
    "round2['company_permalink'] = round2['company_permalink'].str.lower()\n",
    "\n",
    "round2.head()"
   ]
  },
  {
   "cell_type": "code",
   "execution_count": 11,
   "metadata": {},
   "outputs": [
    {
     "data": {
      "text/html": [
       "<div>\n",
       "<style scoped>\n",
       "    .dataframe tbody tr th:only-of-type {\n",
       "        vertical-align: middle;\n",
       "    }\n",
       "\n",
       "    .dataframe tbody tr th {\n",
       "        vertical-align: top;\n",
       "    }\n",
       "\n",
       "    .dataframe thead th {\n",
       "        text-align: right;\n",
       "    }\n",
       "</style>\n",
       "<table border=\"1\" class=\"dataframe\">\n",
       "  <thead>\n",
       "    <tr style=\"text-align: right;\">\n",
       "      <th></th>\n",
       "      <th>company_permalink</th>\n",
       "      <th>funding_round_permalink</th>\n",
       "      <th>funding_round_type</th>\n",
       "      <th>funding_round_code</th>\n",
       "      <th>funded_at</th>\n",
       "    </tr>\n",
       "  </thead>\n",
       "  <tbody>\n",
       "    <tr>\n",
       "      <th>count</th>\n",
       "      <td>114949</td>\n",
       "      <td>114949</td>\n",
       "      <td>114949</td>\n",
       "      <td>31140</td>\n",
       "      <td>114949</td>\n",
       "    </tr>\n",
       "    <tr>\n",
       "      <th>unique</th>\n",
       "      <td>66368</td>\n",
       "      <td>114949</td>\n",
       "      <td>14</td>\n",
       "      <td>8</td>\n",
       "      <td>5033</td>\n",
       "    </tr>\n",
       "    <tr>\n",
       "      <th>top</th>\n",
       "      <td>/organization/solarflare</td>\n",
       "      <td>/funding-round/3616e2d91de89863f3a7c9722cb363d7</td>\n",
       "      <td>venture</td>\n",
       "      <td>A</td>\n",
       "      <td>01-01-2014</td>\n",
       "    </tr>\n",
       "    <tr>\n",
       "      <th>freq</th>\n",
       "      <td>19</td>\n",
       "      <td>1</td>\n",
       "      <td>55494</td>\n",
       "      <td>14747</td>\n",
       "      <td>779</td>\n",
       "    </tr>\n",
       "  </tbody>\n",
       "</table>\n",
       "</div>"
      ],
      "text/plain": [
       "               company_permalink  \\\n",
       "count                     114949   \n",
       "unique                     66368   \n",
       "top     /organization/solarflare   \n",
       "freq                          19   \n",
       "\n",
       "                                funding_round_permalink funding_round_type  \\\n",
       "count                                            114949             114949   \n",
       "unique                                           114949                 14   \n",
       "top     /funding-round/3616e2d91de89863f3a7c9722cb363d7            venture   \n",
       "freq                                                  1              55494   \n",
       "\n",
       "       funding_round_code   funded_at  \n",
       "count               31140      114949  \n",
       "unique                  8        5033  \n",
       "top                     A  01-01-2014  \n",
       "freq                14747         779  "
      ]
     },
     "execution_count": 11,
     "metadata": {},
     "output_type": "execute_result"
    }
   ],
   "source": [
    "# round2 describe to chec the unique companies\n",
    "round2.describe(include=['object'])"
   ]
  },
  {
   "cell_type": "code",
   "execution_count": 12,
   "metadata": {},
   "outputs": [
    {
     "data": {
      "text/plain": [
       "array(['/organization/-fame', '/organization/-qounter',\n",
       "       '/organization/-the-one-of-them-inc-', ..., '/organization/eron',\n",
       "       '/organization/asys-2',\n",
       "       '/organization/novatiff-reklam-ve-tantm-hizmetleri-tic'],\n",
       "      dtype=object)"
      ]
     },
     "execution_count": 12,
     "metadata": {},
     "output_type": "execute_result"
    }
   ],
   "source": [
    "pd.unique(round2.company_permalink)"
   ]
  },
  {
   "cell_type": "code",
   "execution_count": 13,
   "metadata": {},
   "outputs": [
    {
     "name": "stdout",
     "output_type": "stream",
     "text": [
      "<class 'pandas.core.frame.DataFrame'>\n",
      "RangeIndex: 114949 entries, 0 to 114948\n",
      "Data columns (total 6 columns):\n",
      " #   Column                   Non-Null Count   Dtype  \n",
      "---  ------                   --------------   -----  \n",
      " 0   company_permalink        114949 non-null  object \n",
      " 1   funding_round_permalink  114949 non-null  object \n",
      " 2   funding_round_type       114949 non-null  object \n",
      " 3   funding_round_code       31140 non-null   object \n",
      " 4   funded_at                114949 non-null  object \n",
      " 5   raised_amount_usd        94959 non-null   float64\n",
      "dtypes: float64(1), object(5)\n",
      "memory usage: 5.3+ MB\n"
     ]
    }
   ],
   "source": [
    "round2.info()"
   ]
  },
  {
   "cell_type": "code",
   "execution_count": 14,
   "metadata": {},
   "outputs": [
    {
     "data": {
      "text/plain": [
       "Index(['permalink', 'name', 'category_list', 'status', 'country_code'], dtype='object')"
      ]
     },
     "execution_count": 14,
     "metadata": {},
     "output_type": "execute_result"
    }
   ],
   "source": [
    "companies.columns"
   ]
  },
  {
   "cell_type": "code",
   "execution_count": 15,
   "metadata": {},
   "outputs": [
    {
     "data": {
      "text/plain": [
       "Series([], dtype: object)"
      ]
     },
     "execution_count": 15,
     "metadata": {},
     "output_type": "execute_result"
    }
   ],
   "source": [
    "#Observed no difference after conversion to lower and removing special characters in both dataframes \n",
    "df_diff = pd.concat([round2.company_permalink,companies.permalink]).drop_duplicates(keep=False)\n",
    "df_diff.head()"
   ]
  },
  {
   "cell_type": "markdown",
   "metadata": {},
   "source": [
    "## Merge Companies and Round dataframes "
   ]
  },
  {
   "cell_type": "code",
   "execution_count": 16,
   "metadata": {},
   "outputs": [
    {
     "data": {
      "text/plain": [
       "company_permalink           0.00\n",
       "funding_round_permalink     0.00\n",
       "funding_round_type          0.00\n",
       "funding_round_code         72.91\n",
       "funded_at                   0.00\n",
       "raised_amount_usd          17.39\n",
       "permalink                   0.00\n",
       "name                        0.00\n",
       "category_list               2.97\n",
       "status                      0.00\n",
       "country_code                7.55\n",
       "dtype: float64"
      ]
     },
     "execution_count": 16,
     "metadata": {},
     "output_type": "execute_result"
    }
   ],
   "source": [
    "#merged both dataframes to master dataframe using left join \n",
    "master_frame_df = pd.merge(left=round2,right=companies, how='left',left_on='company_permalink', right_on='permalink')\n",
    "\n",
    "master_frame_df.shape\n",
    "\n",
    "round(100*(master_frame_df.isnull().sum()/len(master_frame_df.index)), 2)"
   ]
  },
  {
   "cell_type": "code",
   "execution_count": 17,
   "metadata": {},
   "outputs": [
    {
     "data": {
      "text/html": [
       "<div>\n",
       "<style scoped>\n",
       "    .dataframe tbody tr th:only-of-type {\n",
       "        vertical-align: middle;\n",
       "    }\n",
       "\n",
       "    .dataframe tbody tr th {\n",
       "        vertical-align: top;\n",
       "    }\n",
       "\n",
       "    .dataframe thead th {\n",
       "        text-align: right;\n",
       "    }\n",
       "</style>\n",
       "<table border=\"1\" class=\"dataframe\">\n",
       "  <thead>\n",
       "    <tr style=\"text-align: right;\">\n",
       "      <th></th>\n",
       "      <th>company_permalink</th>\n",
       "      <th>funding_round_permalink</th>\n",
       "      <th>funding_round_type</th>\n",
       "      <th>funding_round_code</th>\n",
       "      <th>funded_at</th>\n",
       "      <th>raised_amount_usd</th>\n",
       "      <th>permalink</th>\n",
       "      <th>name</th>\n",
       "      <th>category_list</th>\n",
       "      <th>status</th>\n",
       "      <th>country_code</th>\n",
       "    </tr>\n",
       "  </thead>\n",
       "  <tbody>\n",
       "    <tr>\n",
       "      <th>0</th>\n",
       "      <td>/organization/-fame</td>\n",
       "      <td>/funding-round/9a01d05418af9f794eebff7ace91f638</td>\n",
       "      <td>venture</td>\n",
       "      <td>B</td>\n",
       "      <td>05-01-2015</td>\n",
       "      <td>10000000.0</td>\n",
       "      <td>/organization/-fame</td>\n",
       "      <td>#fame</td>\n",
       "      <td>Media</td>\n",
       "      <td>operating</td>\n",
       "      <td>IND</td>\n",
       "    </tr>\n",
       "    <tr>\n",
       "      <th>1</th>\n",
       "      <td>/organization/-qounter</td>\n",
       "      <td>/funding-round/22dacff496eb7acb2b901dec1dfe5633</td>\n",
       "      <td>venture</td>\n",
       "      <td>A</td>\n",
       "      <td>14-10-2014</td>\n",
       "      <td>NaN</td>\n",
       "      <td>/organization/-qounter</td>\n",
       "      <td>:Qounter</td>\n",
       "      <td>Application Platforms|Real Time|Social Network...</td>\n",
       "      <td>operating</td>\n",
       "      <td>USA</td>\n",
       "    </tr>\n",
       "    <tr>\n",
       "      <th>2</th>\n",
       "      <td>/organization/-qounter</td>\n",
       "      <td>/funding-round/b44fbb94153f6cdef13083530bb48030</td>\n",
       "      <td>seed</td>\n",
       "      <td>NaN</td>\n",
       "      <td>01-03-2014</td>\n",
       "      <td>700000.0</td>\n",
       "      <td>/organization/-qounter</td>\n",
       "      <td>:Qounter</td>\n",
       "      <td>Application Platforms|Real Time|Social Network...</td>\n",
       "      <td>operating</td>\n",
       "      <td>USA</td>\n",
       "    </tr>\n",
       "    <tr>\n",
       "      <th>3</th>\n",
       "      <td>/organization/-the-one-of-them-inc-</td>\n",
       "      <td>/funding-round/650b8f704416801069bb178a1418776b</td>\n",
       "      <td>venture</td>\n",
       "      <td>B</td>\n",
       "      <td>30-01-2014</td>\n",
       "      <td>3406878.0</td>\n",
       "      <td>/organization/-the-one-of-them-inc-</td>\n",
       "      <td>(THE) ONE of THEM,Inc.</td>\n",
       "      <td>Apps|Games|Mobile</td>\n",
       "      <td>operating</td>\n",
       "      <td>NaN</td>\n",
       "    </tr>\n",
       "    <tr>\n",
       "      <th>4</th>\n",
       "      <td>/organization/0-6-com</td>\n",
       "      <td>/funding-round/5727accaeaa57461bd22a9bdd945382d</td>\n",
       "      <td>venture</td>\n",
       "      <td>A</td>\n",
       "      <td>19-03-2008</td>\n",
       "      <td>2000000.0</td>\n",
       "      <td>/organization/0-6-com</td>\n",
       "      <td>0-6.com</td>\n",
       "      <td>Curated Web</td>\n",
       "      <td>operating</td>\n",
       "      <td>CHN</td>\n",
       "    </tr>\n",
       "    <tr>\n",
       "      <th>...</th>\n",
       "      <td>...</td>\n",
       "      <td>...</td>\n",
       "      <td>...</td>\n",
       "      <td>...</td>\n",
       "      <td>...</td>\n",
       "      <td>...</td>\n",
       "      <td>...</td>\n",
       "      <td>...</td>\n",
       "      <td>...</td>\n",
       "      <td>...</td>\n",
       "      <td>...</td>\n",
       "    </tr>\n",
       "    <tr>\n",
       "      <th>95</th>\n",
       "      <td>/organization/1234enter</td>\n",
       "      <td>/funding-round/6343322ed785252d4c5ada444fa7d8e4</td>\n",
       "      <td>venture</td>\n",
       "      <td>NaN</td>\n",
       "      <td>22-11-2013</td>\n",
       "      <td>150267.0</td>\n",
       "      <td>/organization/1234enter</td>\n",
       "      <td>1234ENTER</td>\n",
       "      <td>Advertising|Analytics|Business Services|E-Comm...</td>\n",
       "      <td>operating</td>\n",
       "      <td>NaN</td>\n",
       "    </tr>\n",
       "    <tr>\n",
       "      <th>96</th>\n",
       "      <td>/organization/1234enter</td>\n",
       "      <td>/funding-round/ee6f9dea78c9a0697a500098a854564d</td>\n",
       "      <td>seed</td>\n",
       "      <td>NaN</td>\n",
       "      <td>01-09-2012</td>\n",
       "      <td>500000.0</td>\n",
       "      <td>/organization/1234enter</td>\n",
       "      <td>1234ENTER</td>\n",
       "      <td>Advertising|Analytics|Business Services|E-Comm...</td>\n",
       "      <td>operating</td>\n",
       "      <td>NaN</td>\n",
       "    </tr>\n",
       "    <tr>\n",
       "      <th>97</th>\n",
       "      <td>/organization/123contactform</td>\n",
       "      <td>/funding-round/af7382f8e3d806986796029388cb1b7f</td>\n",
       "      <td>venture</td>\n",
       "      <td>NaN</td>\n",
       "      <td>16-06-2015</td>\n",
       "      <td>1000000.0</td>\n",
       "      <td>/organization/123contactform</td>\n",
       "      <td>123ContactForm</td>\n",
       "      <td>E-Commerce|SaaS</td>\n",
       "      <td>operating</td>\n",
       "      <td>ROM</td>\n",
       "    </tr>\n",
       "    <tr>\n",
       "      <th>98</th>\n",
       "      <td>/organization/123contactform</td>\n",
       "      <td>/funding-round/b678dec4e0df10e2518a81215f8fd843</td>\n",
       "      <td>angel</td>\n",
       "      <td>NaN</td>\n",
       "      <td>01-01-2010</td>\n",
       "      <td>NaN</td>\n",
       "      <td>/organization/123contactform</td>\n",
       "      <td>123ContactForm</td>\n",
       "      <td>E-Commerce|SaaS</td>\n",
       "      <td>operating</td>\n",
       "      <td>ROM</td>\n",
       "    </tr>\n",
       "    <tr>\n",
       "      <th>99</th>\n",
       "      <td>/organization/123feng-com</td>\n",
       "      <td>/funding-round/9d83084d87dc63a309c9a6fe9bf59d1b</td>\n",
       "      <td>venture</td>\n",
       "      <td>A</td>\n",
       "      <td>27-10-2015</td>\n",
       "      <td>13000000.0</td>\n",
       "      <td>/organization/123feng-com</td>\n",
       "      <td>123Feng.Com</td>\n",
       "      <td>NaN</td>\n",
       "      <td>operating</td>\n",
       "      <td>CHN</td>\n",
       "    </tr>\n",
       "  </tbody>\n",
       "</table>\n",
       "<p>100 rows × 11 columns</p>\n",
       "</div>"
      ],
      "text/plain": [
       "                      company_permalink  \\\n",
       "0                   /organization/-fame   \n",
       "1                /organization/-qounter   \n",
       "2                /organization/-qounter   \n",
       "3   /organization/-the-one-of-them-inc-   \n",
       "4                 /organization/0-6-com   \n",
       "..                                  ...   \n",
       "95              /organization/1234enter   \n",
       "96              /organization/1234enter   \n",
       "97         /organization/123contactform   \n",
       "98         /organization/123contactform   \n",
       "99            /organization/123feng-com   \n",
       "\n",
       "                            funding_round_permalink funding_round_type  \\\n",
       "0   /funding-round/9a01d05418af9f794eebff7ace91f638            venture   \n",
       "1   /funding-round/22dacff496eb7acb2b901dec1dfe5633            venture   \n",
       "2   /funding-round/b44fbb94153f6cdef13083530bb48030               seed   \n",
       "3   /funding-round/650b8f704416801069bb178a1418776b            venture   \n",
       "4   /funding-round/5727accaeaa57461bd22a9bdd945382d            venture   \n",
       "..                                              ...                ...   \n",
       "95  /funding-round/6343322ed785252d4c5ada444fa7d8e4            venture   \n",
       "96  /funding-round/ee6f9dea78c9a0697a500098a854564d               seed   \n",
       "97  /funding-round/af7382f8e3d806986796029388cb1b7f            venture   \n",
       "98  /funding-round/b678dec4e0df10e2518a81215f8fd843              angel   \n",
       "99  /funding-round/9d83084d87dc63a309c9a6fe9bf59d1b            venture   \n",
       "\n",
       "   funding_round_code   funded_at  raised_amount_usd  \\\n",
       "0                   B  05-01-2015         10000000.0   \n",
       "1                   A  14-10-2014                NaN   \n",
       "2                 NaN  01-03-2014           700000.0   \n",
       "3                   B  30-01-2014          3406878.0   \n",
       "4                   A  19-03-2008          2000000.0   \n",
       "..                ...         ...                ...   \n",
       "95                NaN  22-11-2013           150267.0   \n",
       "96                NaN  01-09-2012           500000.0   \n",
       "97                NaN  16-06-2015          1000000.0   \n",
       "98                NaN  01-01-2010                NaN   \n",
       "99                  A  27-10-2015         13000000.0   \n",
       "\n",
       "                              permalink                    name  \\\n",
       "0                   /organization/-fame                   #fame   \n",
       "1                /organization/-qounter                :Qounter   \n",
       "2                /organization/-qounter                :Qounter   \n",
       "3   /organization/-the-one-of-them-inc-  (THE) ONE of THEM,Inc.   \n",
       "4                 /organization/0-6-com                 0-6.com   \n",
       "..                                  ...                     ...   \n",
       "95              /organization/1234enter               1234ENTER   \n",
       "96              /organization/1234enter               1234ENTER   \n",
       "97         /organization/123contactform          123ContactForm   \n",
       "98         /organization/123contactform          123ContactForm   \n",
       "99            /organization/123feng-com             123Feng.Com   \n",
       "\n",
       "                                        category_list     status country_code  \n",
       "0                                               Media  operating          IND  \n",
       "1   Application Platforms|Real Time|Social Network...  operating          USA  \n",
       "2   Application Platforms|Real Time|Social Network...  operating          USA  \n",
       "3                                   Apps|Games|Mobile  operating          NaN  \n",
       "4                                         Curated Web  operating          CHN  \n",
       "..                                                ...        ...          ...  \n",
       "95  Advertising|Analytics|Business Services|E-Comm...  operating          NaN  \n",
       "96  Advertising|Analytics|Business Services|E-Comm...  operating          NaN  \n",
       "97                                    E-Commerce|SaaS  operating          ROM  \n",
       "98                                    E-Commerce|SaaS  operating          ROM  \n",
       "99                                                NaN  operating          CHN  \n",
       "\n",
       "[100 rows x 11 columns]"
      ]
     },
     "execution_count": 17,
     "metadata": {},
     "output_type": "execute_result"
    }
   ],
   "source": [
    "master_frame_df.head(100)"
   ]
  },
  {
   "cell_type": "code",
   "execution_count": 18,
   "metadata": {},
   "outputs": [
    {
     "data": {
      "text/plain": [
       "(114949, 11)"
      ]
     },
     "execution_count": 18,
     "metadata": {},
     "output_type": "execute_result"
    }
   ],
   "source": [
    "master_df_sorted = master_frame_df.sort_values(by='company_permalink')\n",
    "master_df_sorted.shape"
   ]
  },
  {
   "cell_type": "code",
   "execution_count": 19,
   "metadata": {},
   "outputs": [
    {
     "data": {
      "text/plain": [
       "0"
      ]
     },
     "execution_count": 19,
     "metadata": {},
     "output_type": "execute_result"
    }
   ],
   "source": [
    "#No null values in fund_round_type\n",
    "master_df_sorted.funding_round_type.isnull().sum()\n"
   ]
  },
  {
   "cell_type": "code",
   "execution_count": 20,
   "metadata": {},
   "outputs": [
    {
     "data": {
      "text/plain": [
       "venture                  55494\n",
       "seed                     30524\n",
       "debt_financing            6895\n",
       "angel                     6094\n",
       "undisclosed               4897\n",
       "equity_crowdfunding       3257\n",
       "private_equity            2285\n",
       "grant                     2200\n",
       "convertible_note          1817\n",
       "post_ipo_equity            638\n",
       "product_crowdfunding       410\n",
       "non_equity_assistance      191\n",
       "post_ipo_debt              152\n",
       "secondary_market            95\n",
       "Name: funding_round_type, dtype: int64"
      ]
     },
     "execution_count": 20,
     "metadata": {},
     "output_type": "execute_result"
    }
   ],
   "source": [
    "#check funding_round_type counts \n",
    "master_df_sorted.funding_round_type.value_counts()\n"
   ]
  },
  {
   "cell_type": "code",
   "execution_count": 21,
   "metadata": {},
   "outputs": [
    {
     "data": {
      "text/plain": [
       "/organization/solarflare               19\n",
       "/organization/exagen-diagnostics       18\n",
       "/organization/semprius                 18\n",
       "/organization/quellan                  18\n",
       "/organization/endogastric-solutions    17\n",
       "                                       ..\n",
       "/organization/abzorba-games             1\n",
       "/organization/3ci                       1\n",
       "/organization/project-wbs               1\n",
       "/organization/maximus                   1\n",
       "/organization/ofidium                   1\n",
       "Name: company_permalink, Length: 66368, dtype: int64"
      ]
     },
     "execution_count": 21,
     "metadata": {},
     "output_type": "execute_result"
    }
   ],
   "source": [
    "#check company_permalink counts \n",
    "master_df_sorted.company_permalink.value_counts()"
   ]
  },
  {
   "cell_type": "code",
   "execution_count": 22,
   "metadata": {},
   "outputs": [
    {
     "data": {
      "text/html": [
       "<div>\n",
       "<style scoped>\n",
       "    .dataframe tbody tr th:only-of-type {\n",
       "        vertical-align: middle;\n",
       "    }\n",
       "\n",
       "    .dataframe tbody tr th {\n",
       "        vertical-align: top;\n",
       "    }\n",
       "\n",
       "    .dataframe thead th {\n",
       "        text-align: right;\n",
       "    }\n",
       "</style>\n",
       "<table border=\"1\" class=\"dataframe\">\n",
       "  <thead>\n",
       "    <tr style=\"text-align: right;\">\n",
       "      <th></th>\n",
       "      <th>company_permalink</th>\n",
       "      <th>funding_round_permalink</th>\n",
       "      <th>funding_round_type</th>\n",
       "      <th>funding_round_code</th>\n",
       "      <th>funded_at</th>\n",
       "      <th>permalink</th>\n",
       "      <th>name</th>\n",
       "      <th>category_list</th>\n",
       "      <th>status</th>\n",
       "      <th>country_code</th>\n",
       "    </tr>\n",
       "  </thead>\n",
       "  <tbody>\n",
       "    <tr>\n",
       "      <th>count</th>\n",
       "      <td>114949</td>\n",
       "      <td>114949</td>\n",
       "      <td>114949</td>\n",
       "      <td>31140</td>\n",
       "      <td>114949</td>\n",
       "      <td>114949</td>\n",
       "      <td>114948</td>\n",
       "      <td>111539</td>\n",
       "      <td>114949</td>\n",
       "      <td>106271</td>\n",
       "    </tr>\n",
       "    <tr>\n",
       "      <th>unique</th>\n",
       "      <td>66368</td>\n",
       "      <td>114949</td>\n",
       "      <td>14</td>\n",
       "      <td>8</td>\n",
       "      <td>5033</td>\n",
       "      <td>66368</td>\n",
       "      <td>66099</td>\n",
       "      <td>27296</td>\n",
       "      <td>4</td>\n",
       "      <td>137</td>\n",
       "    </tr>\n",
       "    <tr>\n",
       "      <th>top</th>\n",
       "      <td>/organization/solarflare</td>\n",
       "      <td>/funding-round/3616e2d91de89863f3a7c9722cb363d7</td>\n",
       "      <td>venture</td>\n",
       "      <td>A</td>\n",
       "      <td>01-01-2014</td>\n",
       "      <td>/organization/solarflare</td>\n",
       "      <td>Solarflare Communications</td>\n",
       "      <td>Biotechnology</td>\n",
       "      <td>operating</td>\n",
       "      <td>USA</td>\n",
       "    </tr>\n",
       "    <tr>\n",
       "      <th>freq</th>\n",
       "      <td>19</td>\n",
       "      <td>1</td>\n",
       "      <td>55494</td>\n",
       "      <td>14747</td>\n",
       "      <td>779</td>\n",
       "      <td>19</td>\n",
       "      <td>19</td>\n",
       "      <td>8165</td>\n",
       "      <td>90153</td>\n",
       "      <td>72308</td>\n",
       "    </tr>\n",
       "  </tbody>\n",
       "</table>\n",
       "</div>"
      ],
      "text/plain": [
       "               company_permalink  \\\n",
       "count                     114949   \n",
       "unique                     66368   \n",
       "top     /organization/solarflare   \n",
       "freq                          19   \n",
       "\n",
       "                                funding_round_permalink funding_round_type  \\\n",
       "count                                            114949             114949   \n",
       "unique                                           114949                 14   \n",
       "top     /funding-round/3616e2d91de89863f3a7c9722cb363d7            venture   \n",
       "freq                                                  1              55494   \n",
       "\n",
       "       funding_round_code   funded_at                 permalink  \\\n",
       "count               31140      114949                    114949   \n",
       "unique                  8        5033                     66368   \n",
       "top                     A  01-01-2014  /organization/solarflare   \n",
       "freq                14747         779                        19   \n",
       "\n",
       "                             name  category_list     status country_code  \n",
       "count                      114948         111539     114949       106271  \n",
       "unique                      66099          27296          4          137  \n",
       "top     Solarflare Communications  Biotechnology  operating          USA  \n",
       "freq                           19           8165      90153        72308  "
      ]
     },
     "execution_count": 22,
     "metadata": {},
     "output_type": "execute_result"
    }
   ],
   "source": [
    "#get summary of the columns \n",
    "master_df_sorted.describe(include=['object'])"
   ]
  },
  {
   "cell_type": "code",
   "execution_count": 23,
   "metadata": {},
   "outputs": [
    {
     "data": {
      "text/plain": [
       "company_permalink           object\n",
       "funding_round_permalink     object\n",
       "funding_round_type          object\n",
       "funding_round_code          object\n",
       "funded_at                   object\n",
       "raised_amount_usd          float64\n",
       "permalink                   object\n",
       "name                        object\n",
       "category_list               object\n",
       "status                      object\n",
       "country_code                object\n",
       "dtype: object"
      ]
     },
     "execution_count": 23,
     "metadata": {},
     "output_type": "execute_result"
    }
   ],
   "source": [
    "master_df_sorted.dtypes"
   ]
  },
  {
   "cell_type": "code",
   "execution_count": 24,
   "metadata": {},
   "outputs": [],
   "source": [
    "######Data Cleaning Process"
   ]
  },
  {
   "cell_type": "code",
   "execution_count": 25,
   "metadata": {},
   "outputs": [
    {
     "data": {
      "text/plain": [
       "company_permalink           object\n",
       "funding_round_permalink     object\n",
       "funding_round_type          object\n",
       "funding_round_code          object\n",
       "funded_at                   object\n",
       "raised_amount_usd          float64\n",
       "permalink                   object\n",
       "name                        object\n",
       "category_list               object\n",
       "status                      object\n",
       "country_code                object\n",
       "dtype: object"
      ]
     },
     "execution_count": 25,
     "metadata": {},
     "output_type": "execute_result"
    }
   ],
   "source": [
    "master_df_sorted.dtypes"
   ]
  },
  {
   "cell_type": "code",
   "execution_count": 26,
   "metadata": {},
   "outputs": [],
   "source": [
    "master_df_sorted['raised_amount_usd_millions'] = pd.to_numeric(master_df_sorted.raised_amount_usd, errors='coerce')/1e6"
   ]
  },
  {
   "cell_type": "code",
   "execution_count": 27,
   "metadata": {},
   "outputs": [
    {
     "data": {
      "text/plain": [
       "count    94959.000000\n",
       "mean        10.426869\n",
       "std        114.821248\n",
       "min          0.000000\n",
       "25%          0.322500\n",
       "50%          1.680511\n",
       "75%          7.000000\n",
       "max      21271.935000\n",
       "Name: raised_amount_usd_millions, dtype: float64"
      ]
     },
     "execution_count": 27,
     "metadata": {},
     "output_type": "execute_result"
    }
   ],
   "source": [
    "master_df_sorted.raised_amount_usd_millions.describe()"
   ]
  },
  {
   "cell_type": "code",
   "execution_count": 28,
   "metadata": {},
   "outputs": [
    {
     "data": {
      "text/plain": [
       "19990"
      ]
     },
     "execution_count": 28,
     "metadata": {},
     "output_type": "execute_result"
    }
   ],
   "source": [
    "master_df_sorted.raised_amount_usd_millions.isnull().sum()"
   ]
  },
  {
   "cell_type": "code",
   "execution_count": 29,
   "metadata": {},
   "outputs": [
    {
     "data": {
      "text/plain": [
       "(94544, 12)"
      ]
     },
     "execution_count": 29,
     "metadata": {},
     "output_type": "execute_result"
    }
   ],
   "source": [
    "#remove null and 0 values from raised_amount_usd\n",
    "master_df_sorted = master_df_sorted[~master_df_sorted['raised_amount_usd_millions'].isnull()]\n",
    "master_df_sorted.drop(master_df_sorted[master_df_sorted.raised_amount_usd_millions <=0].index, inplace=True)\n",
    "\n",
    "master_df_sorted.shape"
   ]
  },
  {
   "cell_type": "code",
   "execution_count": 30,
   "metadata": {},
   "outputs": [
    {
     "data": {
      "text/plain": [
       "(88729, 12)"
      ]
     },
     "execution_count": 30,
     "metadata": {},
     "output_type": "execute_result"
    }
   ],
   "source": [
    "#removing null from country code \n",
    "master_df_sorted.country_code.isnull().sum()\n",
    "master_df_sorted = master_df_sorted[~master_df_sorted['country_code'].isnull()]\n",
    "master_df_sorted.shape\n",
    "#master_df_sorted.country_code.isnull().sum()"
   ]
  },
  {
   "cell_type": "code",
   "execution_count": 31,
   "metadata": {},
   "outputs": [
    {
     "data": {
      "text/plain": [
       "1.000000      2714\n",
       "2.000000      2127\n",
       "0.500000      1999\n",
       "5.000000      1964\n",
       "10.000000     1959\n",
       "              ... \n",
       "0.236484         1\n",
       "0.464876         1\n",
       "850.000000       1\n",
       "10.625000        1\n",
       "0.040005         1\n",
       "Name: raised_amount_usd_millions, Length: 20779, dtype: int64"
      ]
     },
     "execution_count": 31,
     "metadata": {},
     "output_type": "execute_result"
    }
   ],
   "source": [
    "master_df_sorted.raised_amount_usd_millions.value_counts()"
   ]
  },
  {
   "cell_type": "code",
   "execution_count": 32,
   "metadata": {},
   "outputs": [
    {
     "data": {
      "image/png": "[encoded data removed]",
      "text/plain": [
       "<Figure size 432x288 with 1 Axes>"
      ]
     },
     "metadata": {
      "needs_background": "light"
     },
     "output_type": "display_data"
    }
   ],
   "source": [
    "sns.boxplot(y=master_df_sorted.funding_round_type,x=master_df_sorted.raised_amount_usd_millions)\n",
    "plt.show()"
   ]
  },
  {
   "cell_type": "markdown",
   "metadata": {},
   "source": [
    "## Checkpoint 2: Funding Type Analysis"
   ]
  },
  {
   "cell_type": "code",
   "execution_count": 33,
   "metadata": {},
   "outputs": [
    {
     "data": {
      "text/plain": [
       "venture                  48084\n",
       "seed                     21158\n",
       "debt_financing            6510\n",
       "angel                     4400\n",
       "grant                     1977\n",
       "private_equity            1834\n",
       "undisclosed               1337\n",
       "convertible_note          1303\n",
       "equity_crowdfunding        956\n",
       "post_ipo_equity            601\n",
       "product_crowdfunding       329\n",
       "post_ipo_debt              151\n",
       "non_equity_assistance       60\n",
       "secondary_market            29\n",
       "Name: funding_round_type, dtype: int64"
      ]
     },
     "execution_count": 33,
     "metadata": {},
     "output_type": "execute_result"
    }
   ],
   "source": [
    "# Check Point 2\n",
    "fundtype_segment = master_df_sorted.funding_round_type.value_counts()\n",
    "fundtype_segment"
   ]
  },
  {
   "cell_type": "code",
   "execution_count": 34,
   "metadata": {},
   "outputs": [
    {
     "data": {
      "image/png": "[encoded data removed]",
      "text/plain": [
       "<Figure size 432x288 with 1 Axes>"
      ]
     },
     "metadata": {
      "needs_background": "light"
     },
     "output_type": "display_data"
    }
   ],
   "source": [
    "#plotting all ventures based on counts, using log scale for better projections \n",
    "\n",
    "fundtype_vc_df = pd.DataFrame({'fundtype':fundtype_segment.index,'counts':fundtype_segment.values})\n",
    "\n",
    "fundtype_plot = sns.barplot(x=\"counts\", y=\"fundtype\",  data=fundtype_vc_df)\n",
    "fundtype_plot.set_title(\"Fund types analysis\")\n",
    "fundtype_plot.set(xscale=\"log\")\n",
    "plt.show()"
   ]
  },
  {
   "cell_type": "code",
   "execution_count": 35,
   "metadata": {},
   "outputs": [
    {
     "data": {
      "text/plain": [
       "1.000000     2714\n",
       "2.000000     2127\n",
       "0.500000     1999\n",
       "5.000000     1964\n",
       "10.000000    1959\n",
       "             ... \n",
       "0.145252        1\n",
       "0.227423        1\n",
       "0.602917        1\n",
       "0.236484        1\n",
       "26.121384       1\n",
       "Name: raised_amount_usd_millions, Length: 20779, dtype: int64"
      ]
     },
     "execution_count": 35,
     "metadata": {},
     "output_type": "execute_result"
    }
   ],
   "source": [
    "master_df_sorted.raised_amount_usd_millions.sort_values().value_counts()"
   ]
  },
  {
   "cell_type": "code",
   "execution_count": null,
   "metadata": {},
   "outputs": [],
   "source": []
  },
  {
   "cell_type": "code",
   "execution_count": 36,
   "metadata": {},
   "outputs": [
    {
     "name": "stdout",
     "output_type": "stream",
     "text": [
      "0.9745033454545458\n",
      "0.7507563479535142\n",
      "11.742369779177917\n",
      "73.65870460087243\n"
     ]
    }
   ],
   "source": [
    "# Four investment types\n",
    "\n",
    "print(master_df_sorted[master_df_sorted.funding_round_type==\"angel\"].raised_amount_usd_millions.mean())\n",
    "print(master_df_sorted[master_df_sorted.funding_round_type==\"seed\"].raised_amount_usd_millions.mean())\n",
    "print(master_df_sorted[master_df_sorted.funding_round_type==\"venture\"].raised_amount_usd_millions.mean())\n",
    "print(master_df_sorted[master_df_sorted.funding_round_type==\"private_equity\"].raised_amount_usd_millions.mean())"
   ]
  },
  {
   "cell_type": "code",
   "execution_count": 37,
   "metadata": {},
   "outputs": [
    {
     "data": {
      "text/html": [
       "<div>\n",
       "<style scoped>\n",
       "    .dataframe tbody tr th:only-of-type {\n",
       "        vertical-align: middle;\n",
       "    }\n",
       "\n",
       "    .dataframe tbody tr th {\n",
       "        vertical-align: top;\n",
       "    }\n",
       "\n",
       "    .dataframe thead th {\n",
       "        text-align: right;\n",
       "    }\n",
       "</style>\n",
       "<table border=\"1\" class=\"dataframe\">\n",
       "  <thead>\n",
       "    <tr style=\"text-align: right;\">\n",
       "      <th></th>\n",
       "      <th>company_permalink</th>\n",
       "      <th>funding_round_permalink</th>\n",
       "      <th>funding_round_type</th>\n",
       "      <th>funding_round_code</th>\n",
       "      <th>funded_at</th>\n",
       "      <th>raised_amount_usd</th>\n",
       "      <th>permalink</th>\n",
       "      <th>name</th>\n",
       "      <th>category_list</th>\n",
       "      <th>status</th>\n",
       "      <th>country_code</th>\n",
       "      <th>raised_amount_usd_millions</th>\n",
       "    </tr>\n",
       "  </thead>\n",
       "  <tbody>\n",
       "    <tr>\n",
       "      <th>0</th>\n",
       "      <td>/organization/-fame</td>\n",
       "      <td>/funding-round/9a01d05418af9f794eebff7ace91f638</td>\n",
       "      <td>venture</td>\n",
       "      <td>B</td>\n",
       "      <td>05-01-2015</td>\n",
       "      <td>10000000.0</td>\n",
       "      <td>/organization/-fame</td>\n",
       "      <td>#fame</td>\n",
       "      <td>Media</td>\n",
       "      <td>operating</td>\n",
       "      <td>IND</td>\n",
       "      <td>10.00000</td>\n",
       "    </tr>\n",
       "    <tr>\n",
       "      <th>2</th>\n",
       "      <td>/organization/-qounter</td>\n",
       "      <td>/funding-round/b44fbb94153f6cdef13083530bb48030</td>\n",
       "      <td>seed</td>\n",
       "      <td>NaN</td>\n",
       "      <td>01-03-2014</td>\n",
       "      <td>700000.0</td>\n",
       "      <td>/organization/-qounter</td>\n",
       "      <td>:Qounter</td>\n",
       "      <td>Application Platforms|Real Time|Social Network...</td>\n",
       "      <td>operating</td>\n",
       "      <td>USA</td>\n",
       "      <td>0.70000</td>\n",
       "    </tr>\n",
       "    <tr>\n",
       "      <th>4</th>\n",
       "      <td>/organization/0-6-com</td>\n",
       "      <td>/funding-round/5727accaeaa57461bd22a9bdd945382d</td>\n",
       "      <td>venture</td>\n",
       "      <td>A</td>\n",
       "      <td>19-03-2008</td>\n",
       "      <td>2000000.0</td>\n",
       "      <td>/organization/0-6-com</td>\n",
       "      <td>0-6.com</td>\n",
       "      <td>Curated Web</td>\n",
       "      <td>operating</td>\n",
       "      <td>CHN</td>\n",
       "      <td>2.00000</td>\n",
       "    </tr>\n",
       "    <tr>\n",
       "      <th>6</th>\n",
       "      <td>/organization/01games-technology</td>\n",
       "      <td>/funding-round/7d53696f2b4f607a2f2a8cbb83d01839</td>\n",
       "      <td>undisclosed</td>\n",
       "      <td>NaN</td>\n",
       "      <td>01-07-2014</td>\n",
       "      <td>41250.0</td>\n",
       "      <td>/organization/01games-technology</td>\n",
       "      <td>01Games Technology</td>\n",
       "      <td>Games</td>\n",
       "      <td>operating</td>\n",
       "      <td>HKG</td>\n",
       "      <td>0.04125</td>\n",
       "    </tr>\n",
       "    <tr>\n",
       "      <th>7</th>\n",
       "      <td>/organization/0ndine-biomedical-inc</td>\n",
       "      <td>/funding-round/2b9d3ac293d5cdccbecff5c8cb0f327d</td>\n",
       "      <td>seed</td>\n",
       "      <td>NaN</td>\n",
       "      <td>11-09-2009</td>\n",
       "      <td>43360.0</td>\n",
       "      <td>/organization/0ndine-biomedical-inc</td>\n",
       "      <td>Ondine Biomedical Inc.</td>\n",
       "      <td>Biotechnology</td>\n",
       "      <td>operating</td>\n",
       "      <td>CAN</td>\n",
       "      <td>0.04336</td>\n",
       "    </tr>\n",
       "  </tbody>\n",
       "</table>\n",
       "</div>"
      ],
      "text/plain": [
       "                     company_permalink  \\\n",
       "0                  /organization/-fame   \n",
       "2               /organization/-qounter   \n",
       "4                /organization/0-6-com   \n",
       "6     /organization/01games-technology   \n",
       "7  /organization/0ndine-biomedical-inc   \n",
       "\n",
       "                           funding_round_permalink funding_round_type  \\\n",
       "0  /funding-round/9a01d05418af9f794eebff7ace91f638            venture   \n",
       "2  /funding-round/b44fbb94153f6cdef13083530bb48030               seed   \n",
       "4  /funding-round/5727accaeaa57461bd22a9bdd945382d            venture   \n",
       "6  /funding-round/7d53696f2b4f607a2f2a8cbb83d01839        undisclosed   \n",
       "7  /funding-round/2b9d3ac293d5cdccbecff5c8cb0f327d               seed   \n",
       "\n",
       "  funding_round_code   funded_at  raised_amount_usd  \\\n",
       "0                  B  05-01-2015         10000000.0   \n",
       "2                NaN  01-03-2014           700000.0   \n",
       "4                  A  19-03-2008          2000000.0   \n",
       "6                NaN  01-07-2014            41250.0   \n",
       "7                NaN  11-09-2009            43360.0   \n",
       "\n",
       "                             permalink                    name  \\\n",
       "0                  /organization/-fame                   #fame   \n",
       "2               /organization/-qounter                :Qounter   \n",
       "4                /organization/0-6-com                 0-6.com   \n",
       "6     /organization/01games-technology      01Games Technology   \n",
       "7  /organization/0ndine-biomedical-inc  Ondine Biomedical Inc.   \n",
       "\n",
       "                                       category_list     status country_code  \\\n",
       "0                                              Media  operating          IND   \n",
       "2  Application Platforms|Real Time|Social Network...  operating          USA   \n",
       "4                                        Curated Web  operating          CHN   \n",
       "6                                              Games  operating          HKG   \n",
       "7                                      Biotechnology  operating          CAN   \n",
       "\n",
       "   raised_amount_usd_millions  \n",
       "0                    10.00000  \n",
       "2                     0.70000  \n",
       "4                     2.00000  \n",
       "6                     0.04125  \n",
       "7                     0.04336  "
      ]
     },
     "execution_count": 37,
     "metadata": {},
     "output_type": "execute_result"
    }
   ],
   "source": [
    "master_df_sorted.head()"
   ]
  },
  {
   "cell_type": "code",
   "execution_count": 38,
   "metadata": {},
   "outputs": [
    {
     "data": {
      "text/plain": [
       "count    88729.000000\n",
       "mean        10.515320\n",
       "std        111.696308\n",
       "min          0.000001\n",
       "25%          0.383850\n",
       "50%          1.842105\n",
       "75%          7.200000\n",
       "max      21271.935000\n",
       "Name: raised_amount_usd_millions, dtype: float64"
      ]
     },
     "execution_count": 38,
     "metadata": {},
     "output_type": "execute_result"
    }
   ],
   "source": [
    "master_df_sorted.raised_amount_usd_millions.describe()"
   ]
  },
  {
   "cell_type": "markdown",
   "metadata": {},
   "source": [
    "## Check Point 3 : Country Analysis\n"
   ]
  },
  {
   "cell_type": "code",
   "execution_count": 39,
   "metadata": {},
   "outputs": [],
   "source": [
    "# Considering Spark Funds wants to invest between 5 to 15 millions USD \n",
    "\n",
    "master_df_sorted = master_df_sorted.loc[(master_df_sorted.raised_amount_usd_millions>=5.0) & (master_df_sorted.raised_amount_usd_millions<=15.0)]\n"
   ]
  },
  {
   "cell_type": "code",
   "execution_count": 40,
   "metadata": {},
   "outputs": [
    {
     "data": {
      "text/html": [
       "<div>\n",
       "<style scoped>\n",
       "    .dataframe tbody tr th:only-of-type {\n",
       "        vertical-align: middle;\n",
       "    }\n",
       "\n",
       "    .dataframe tbody tr th {\n",
       "        vertical-align: top;\n",
       "    }\n",
       "\n",
       "    .dataframe thead th {\n",
       "        text-align: right;\n",
       "    }\n",
       "</style>\n",
       "<table border=\"1\" class=\"dataframe\">\n",
       "  <thead>\n",
       "    <tr style=\"text-align: right;\">\n",
       "      <th></th>\n",
       "      <th>index</th>\n",
       "      <th>company_permalink</th>\n",
       "      <th>funding_round_permalink</th>\n",
       "      <th>funding_round_type</th>\n",
       "      <th>funding_round_code</th>\n",
       "      <th>funded_at</th>\n",
       "      <th>raised_amount_usd</th>\n",
       "      <th>permalink</th>\n",
       "      <th>name</th>\n",
       "      <th>category_list</th>\n",
       "      <th>status</th>\n",
       "      <th>country_code</th>\n",
       "      <th>raised_amount_usd_millions</th>\n",
       "    </tr>\n",
       "  </thead>\n",
       "  <tbody>\n",
       "    <tr>\n",
       "      <th>0</th>\n",
       "      <td>0</td>\n",
       "      <td>/organization/-fame</td>\n",
       "      <td>/funding-round/9a01d05418af9f794eebff7ace91f638</td>\n",
       "      <td>venture</td>\n",
       "      <td>B</td>\n",
       "      <td>05-01-2015</td>\n",
       "      <td>10000000.0</td>\n",
       "      <td>/organization/-fame</td>\n",
       "      <td>#fame</td>\n",
       "      <td>Media</td>\n",
       "      <td>operating</td>\n",
       "      <td>IND</td>\n",
       "      <td>10.000000</td>\n",
       "    </tr>\n",
       "    <tr>\n",
       "      <th>1</th>\n",
       "      <td>12</td>\n",
       "      <td>/organization/0xdata</td>\n",
       "      <td>/funding-round/e1cfcbe1bdf4c70277c5f29a3482f24e</td>\n",
       "      <td>venture</td>\n",
       "      <td>A</td>\n",
       "      <td>19-07-2014</td>\n",
       "      <td>8900000.0</td>\n",
       "      <td>/organization/0xdata</td>\n",
       "      <td>H2O.ai</td>\n",
       "      <td>Analytics</td>\n",
       "      <td>operating</td>\n",
       "      <td>USA</td>\n",
       "      <td>8.900000</td>\n",
       "    </tr>\n",
       "    <tr>\n",
       "      <th>2</th>\n",
       "      <td>22</td>\n",
       "      <td>/organization/1-mainstream</td>\n",
       "      <td>/funding-round/b952cbaf401f310927430c97b68162ea</td>\n",
       "      <td>venture</td>\n",
       "      <td>NaN</td>\n",
       "      <td>17-03-2015</td>\n",
       "      <td>5000000.0</td>\n",
       "      <td>/organization/1-mainstream</td>\n",
       "      <td>1 Mainstream</td>\n",
       "      <td>Apps|Cable|Distribution|Software</td>\n",
       "      <td>acquired</td>\n",
       "      <td>USA</td>\n",
       "      <td>5.000000</td>\n",
       "    </tr>\n",
       "    <tr>\n",
       "      <th>3</th>\n",
       "      <td>46</td>\n",
       "      <td>/organization/1001-menus</td>\n",
       "      <td>/funding-round/645b4cd895450b8e0268027cd7813047</td>\n",
       "      <td>venture</td>\n",
       "      <td>B</td>\n",
       "      <td>04-11-2015</td>\n",
       "      <td>6602694.0</td>\n",
       "      <td>/organization/1001-menus</td>\n",
       "      <td>ZenChef</td>\n",
       "      <td>Local Businesses|Restaurants</td>\n",
       "      <td>operating</td>\n",
       "      <td>FRA</td>\n",
       "      <td>6.602694</td>\n",
       "    </tr>\n",
       "    <tr>\n",
       "      <th>4</th>\n",
       "      <td>50</td>\n",
       "      <td>/organization/1001pharmacies-com</td>\n",
       "      <td>/funding-round/a21fc4d20200f43e3a25fd9cfc7c1482</td>\n",
       "      <td>venture</td>\n",
       "      <td>A</td>\n",
       "      <td>09-07-2015</td>\n",
       "      <td>8900000.0</td>\n",
       "      <td>/organization/1001pharmacies-com</td>\n",
       "      <td>1001pharmacies.com</td>\n",
       "      <td>Cosmetics|Marketplaces</td>\n",
       "      <td>operating</td>\n",
       "      <td>FRA</td>\n",
       "      <td>8.900000</td>\n",
       "    </tr>\n",
       "    <tr>\n",
       "      <th>...</th>\n",
       "      <td>...</td>\n",
       "      <td>...</td>\n",
       "      <td>...</td>\n",
       "      <td>...</td>\n",
       "      <td>...</td>\n",
       "      <td>...</td>\n",
       "      <td>...</td>\n",
       "      <td>...</td>\n",
       "      <td>...</td>\n",
       "      <td>...</td>\n",
       "      <td>...</td>\n",
       "      <td>...</td>\n",
       "      <td>...</td>\n",
       "    </tr>\n",
       "    <tr>\n",
       "      <th>15882</th>\n",
       "      <td>114889</td>\n",
       "      <td>/organization/zymeworks</td>\n",
       "      <td>/funding-round/917b2ed7b99f219fcbc660c9789482d5</td>\n",
       "      <td>venture</td>\n",
       "      <td>D</td>\n",
       "      <td>22-09-2011</td>\n",
       "      <td>8100000.0</td>\n",
       "      <td>/organization/zymeworks</td>\n",
       "      <td>Zymeworks</td>\n",
       "      <td>Biotechnology</td>\n",
       "      <td>operating</td>\n",
       "      <td>CAN</td>\n",
       "      <td>8.100000</td>\n",
       "    </tr>\n",
       "    <tr>\n",
       "      <th>15883</th>\n",
       "      <td>114891</td>\n",
       "      <td>/organization/zymeworks</td>\n",
       "      <td>/funding-round/d7b019f508ef724ca3a851a4359a272f</td>\n",
       "      <td>venture</td>\n",
       "      <td>NaN</td>\n",
       "      <td>06-09-2012</td>\n",
       "      <td>11000000.0</td>\n",
       "      <td>/organization/zymeworks</td>\n",
       "      <td>Zymeworks</td>\n",
       "      <td>Biotechnology</td>\n",
       "      <td>operating</td>\n",
       "      <td>CAN</td>\n",
       "      <td>11.000000</td>\n",
       "    </tr>\n",
       "    <tr>\n",
       "      <th>15884</th>\n",
       "      <td>114892</td>\n",
       "      <td>/organization/zymeworks</td>\n",
       "      <td>/funding-round/e4dee9b0a5fa30e650e5dea33e1faad8</td>\n",
       "      <td>venture</td>\n",
       "      <td>NaN</td>\n",
       "      <td>09-01-2014</td>\n",
       "      <td>15000000.0</td>\n",
       "      <td>/organization/zymeworks</td>\n",
       "      <td>Zymeworks</td>\n",
       "      <td>Biotechnology</td>\n",
       "      <td>operating</td>\n",
       "      <td>CAN</td>\n",
       "      <td>15.000000</td>\n",
       "    </tr>\n",
       "    <tr>\n",
       "      <th>15890</th>\n",
       "      <td>114916</td>\n",
       "      <td>/organization/zynstra</td>\n",
       "      <td>/funding-round/05f43b37c270f5919578281ce803de8f</td>\n",
       "      <td>venture</td>\n",
       "      <td>B</td>\n",
       "      <td>09-07-2014</td>\n",
       "      <td>8400000.0</td>\n",
       "      <td>/organization/zynstra</td>\n",
       "      <td>Zynstra</td>\n",
       "      <td>Software</td>\n",
       "      <td>operating</td>\n",
       "      <td>GBR</td>\n",
       "      <td>8.400000</td>\n",
       "    </tr>\n",
       "    <tr>\n",
       "      <th>15893</th>\n",
       "      <td>114931</td>\n",
       "      <td>/organization/zyraz-technology</td>\n",
       "      <td>/funding-round/e949f077c943db197f20e43c2eb8d0e6</td>\n",
       "      <td>venture</td>\n",
       "      <td>A</td>\n",
       "      <td>09-10-2009</td>\n",
       "      <td>7991547.0</td>\n",
       "      <td>/organization/zyraz-technology</td>\n",
       "      <td>Zyraz Technology</td>\n",
       "      <td>Biotechnology</td>\n",
       "      <td>closed</td>\n",
       "      <td>MYS</td>\n",
       "      <td>7.991547</td>\n",
       "    </tr>\n",
       "  </tbody>\n",
       "</table>\n",
       "<p>4745 rows × 13 columns</p>\n",
       "</div>"
      ],
      "text/plain": [
       "        index                 company_permalink  \\\n",
       "0           0               /organization/-fame   \n",
       "1          12              /organization/0xdata   \n",
       "2          22        /organization/1-mainstream   \n",
       "3          46          /organization/1001-menus   \n",
       "4          50  /organization/1001pharmacies-com   \n",
       "...       ...                               ...   \n",
       "15882  114889           /organization/zymeworks   \n",
       "15883  114891           /organization/zymeworks   \n",
       "15884  114892           /organization/zymeworks   \n",
       "15890  114916             /organization/zynstra   \n",
       "15893  114931    /organization/zyraz-technology   \n",
       "\n",
       "                               funding_round_permalink funding_round_type  \\\n",
       "0      /funding-round/9a01d05418af9f794eebff7ace91f638            venture   \n",
       "1      /funding-round/e1cfcbe1bdf4c70277c5f29a3482f24e            venture   \n",
       "2      /funding-round/b952cbaf401f310927430c97b68162ea            venture   \n",
       "3      /funding-round/645b4cd895450b8e0268027cd7813047            venture   \n",
       "4      /funding-round/a21fc4d20200f43e3a25fd9cfc7c1482            venture   \n",
       "...                                                ...                ...   \n",
       "15882  /funding-round/917b2ed7b99f219fcbc660c9789482d5            venture   \n",
       "15883  /funding-round/d7b019f508ef724ca3a851a4359a272f            venture   \n",
       "15884  /funding-round/e4dee9b0a5fa30e650e5dea33e1faad8            venture   \n",
       "15890  /funding-round/05f43b37c270f5919578281ce803de8f            venture   \n",
       "15893  /funding-round/e949f077c943db197f20e43c2eb8d0e6            venture   \n",
       "\n",
       "      funding_round_code   funded_at  raised_amount_usd  \\\n",
       "0                      B  05-01-2015         10000000.0   \n",
       "1                      A  19-07-2014          8900000.0   \n",
       "2                    NaN  17-03-2015          5000000.0   \n",
       "3                      B  04-11-2015          6602694.0   \n",
       "4                      A  09-07-2015          8900000.0   \n",
       "...                  ...         ...                ...   \n",
       "15882                  D  22-09-2011          8100000.0   \n",
       "15883                NaN  06-09-2012         11000000.0   \n",
       "15884                NaN  09-01-2014         15000000.0   \n",
       "15890                  B  09-07-2014          8400000.0   \n",
       "15893                  A  09-10-2009          7991547.0   \n",
       "\n",
       "                              permalink                name  \\\n",
       "0                   /organization/-fame               #fame   \n",
       "1                  /organization/0xdata              H2O.ai   \n",
       "2            /organization/1-mainstream        1 Mainstream   \n",
       "3              /organization/1001-menus             ZenChef   \n",
       "4      /organization/1001pharmacies-com  1001pharmacies.com   \n",
       "...                                 ...                 ...   \n",
       "15882           /organization/zymeworks           Zymeworks   \n",
       "15883           /organization/zymeworks           Zymeworks   \n",
       "15884           /organization/zymeworks           Zymeworks   \n",
       "15890             /organization/zynstra             Zynstra   \n",
       "15893    /organization/zyraz-technology    Zyraz Technology   \n",
       "\n",
       "                          category_list     status country_code  \\\n",
       "0                                 Media  operating          IND   \n",
       "1                             Analytics  operating          USA   \n",
       "2      Apps|Cable|Distribution|Software   acquired          USA   \n",
       "3          Local Businesses|Restaurants  operating          FRA   \n",
       "4                Cosmetics|Marketplaces  operating          FRA   \n",
       "...                                 ...        ...          ...   \n",
       "15882                     Biotechnology  operating          CAN   \n",
       "15883                     Biotechnology  operating          CAN   \n",
       "15884                     Biotechnology  operating          CAN   \n",
       "15890                          Software  operating          GBR   \n",
       "15893                     Biotechnology     closed          MYS   \n",
       "\n",
       "       raised_amount_usd_millions  \n",
       "0                       10.000000  \n",
       "1                        8.900000  \n",
       "2                        5.000000  \n",
       "3                        6.602694  \n",
       "4                        8.900000  \n",
       "...                           ...  \n",
       "15882                    8.100000  \n",
       "15883                   11.000000  \n",
       "15884                   15.000000  \n",
       "15890                    8.400000  \n",
       "15893                    7.991547  \n",
       "\n",
       "[4745 rows x 13 columns]"
      ]
     },
     "execution_count": 40,
     "metadata": {},
     "output_type": "execute_result"
    }
   ],
   "source": [
    "#filter venture and group by country code\n",
    "country_grouped_e =master_df_sorted.loc[master_df_sorted.funding_round_type=='venture'].reset_index().groupby(['country_code'])\n",
    "country_grouped_e.head(1000)"
   ]
  },
  {
   "cell_type": "code",
   "execution_count": null,
   "metadata": {},
   "outputs": [],
   "source": []
  },
  {
   "cell_type": "code",
   "execution_count": 41,
   "metadata": {},
   "outputs": [
    {
     "data": {
      "text/html": [
       "<div>\n",
       "<style scoped>\n",
       "    .dataframe tbody tr th:only-of-type {\n",
       "        vertical-align: middle;\n",
       "    }\n",
       "\n",
       "    .dataframe tbody tr th {\n",
       "        vertical-align: top;\n",
       "    }\n",
       "\n",
       "    .dataframe thead th {\n",
       "        text-align: right;\n",
       "    }\n",
       "</style>\n",
       "<table border=\"1\" class=\"dataframe\">\n",
       "  <thead>\n",
       "    <tr style=\"text-align: right;\">\n",
       "      <th></th>\n",
       "      <th>country</th>\n",
       "      <th>Amount_raised_usd_mil</th>\n",
       "    </tr>\n",
       "  </thead>\n",
       "  <tbody>\n",
       "    <tr>\n",
       "      <th>0</th>\n",
       "      <td>USA</td>\n",
       "      <td>108531.347515</td>\n",
       "    </tr>\n",
       "    <tr>\n",
       "      <th>1</th>\n",
       "      <td>GBR</td>\n",
       "      <td>5436.843539</td>\n",
       "    </tr>\n",
       "    <tr>\n",
       "      <th>2</th>\n",
       "      <td>CHN</td>\n",
       "      <td>5016.561053</td>\n",
       "    </tr>\n",
       "    <tr>\n",
       "      <th>3</th>\n",
       "      <td>CAN</td>\n",
       "      <td>3647.009578</td>\n",
       "    </tr>\n",
       "    <tr>\n",
       "      <th>4</th>\n",
       "      <td>IND</td>\n",
       "      <td>2976.543602</td>\n",
       "    </tr>\n",
       "    <tr>\n",
       "      <th>5</th>\n",
       "      <td>ISR</td>\n",
       "      <td>2840.305951</td>\n",
       "    </tr>\n",
       "    <tr>\n",
       "      <th>6</th>\n",
       "      <td>FRA</td>\n",
       "      <td>2112.425453</td>\n",
       "    </tr>\n",
       "    <tr>\n",
       "      <th>7</th>\n",
       "      <td>DEU</td>\n",
       "      <td>1765.026223</td>\n",
       "    </tr>\n",
       "    <tr>\n",
       "      <th>8</th>\n",
       "      <td>SWE</td>\n",
       "      <td>655.040681</td>\n",
       "    </tr>\n",
       "  </tbody>\n",
       "</table>\n",
       "</div>"
      ],
      "text/plain": [
       "  country  Amount_raised_usd_mil\n",
       "0     USA          108531.347515\n",
       "1     GBR            5436.843539\n",
       "2     CHN            5016.561053\n",
       "3     CAN            3647.009578\n",
       "4     IND            2976.543602\n",
       "5     ISR            2840.305951\n",
       "6     FRA            2112.425453\n",
       "7     DEU            1765.026223\n",
       "8     SWE             655.040681"
      ]
     },
     "execution_count": 41,
     "metadata": {},
     "output_type": "execute_result"
    }
   ],
   "source": [
    "#Top 9 contry for venture funding \n",
    "\n",
    "country_top9_segment = country_grouped_e.raised_amount_usd_millions.sum().sort_values(ascending=False).head(9)\n",
    "\n",
    "\n",
    "country_top9_df = pd.DataFrame({'country':country_top9_segment.index,'Amount_raised_usd_mil':country_top9_segment.values})\n",
    "\n",
    "\n",
    "country_top9_df\n",
    "\n",
    "\n"
   ]
  },
  {
   "cell_type": "markdown",
   "metadata": {},
   "source": [
    "## Checkpoint 4 : Sector Analysis"
   ]
  },
  {
   "cell_type": "code",
   "execution_count": 42,
   "metadata": {},
   "outputs": [],
   "source": [
    "#upload mapping.csv file \n",
    "\n",
    "mapping_df = pd.read_csv(mapper_file, sep=',', engine='python')"
   ]
  },
  {
   "cell_type": "code",
   "execution_count": 43,
   "metadata": {},
   "outputs": [],
   "source": [
    "# Drop null values and lower case category_list for cleaning\n",
    "\n",
    "mapping_df = mapping_df.dropna()\n",
    "mapping_df['category_list'] = mapping_df.category_list.apply(lambda category_name: str(category_name).lower())"
   ]
  },
  {
   "cell_type": "code",
   "execution_count": 44,
   "metadata": {},
   "outputs": [
    {
     "data": {
      "text/html": [
       "<div>\n",
       "<style scoped>\n",
       "    .dataframe tbody tr th:only-of-type {\n",
       "        vertical-align: middle;\n",
       "    }\n",
       "\n",
       "    .dataframe tbody tr th {\n",
       "        vertical-align: top;\n",
       "    }\n",
       "\n",
       "    .dataframe thead th {\n",
       "        text-align: right;\n",
       "    }\n",
       "</style>\n",
       "<table border=\"1\" class=\"dataframe\">\n",
       "  <thead>\n",
       "    <tr style=\"text-align: right;\">\n",
       "      <th></th>\n",
       "      <th>category_list</th>\n",
       "      <th>Automotive &amp; Sports</th>\n",
       "      <th>Blanks</th>\n",
       "      <th>Cleantech / Semiconductors</th>\n",
       "      <th>Entertainment</th>\n",
       "      <th>Health</th>\n",
       "      <th>Manufacturing</th>\n",
       "      <th>News, Search and Messaging</th>\n",
       "      <th>Others</th>\n",
       "      <th>Social, Finance, Analytics, Advertising</th>\n",
       "    </tr>\n",
       "  </thead>\n",
       "  <tbody>\n",
       "    <tr>\n",
       "      <th>1</th>\n",
       "      <td>3d</td>\n",
       "      <td>0</td>\n",
       "      <td>0</td>\n",
       "      <td>0</td>\n",
       "      <td>0</td>\n",
       "      <td>0</td>\n",
       "      <td>1</td>\n",
       "      <td>0</td>\n",
       "      <td>0</td>\n",
       "      <td>0</td>\n",
       "    </tr>\n",
       "    <tr>\n",
       "      <th>2</th>\n",
       "      <td>3d printing</td>\n",
       "      <td>0</td>\n",
       "      <td>0</td>\n",
       "      <td>0</td>\n",
       "      <td>0</td>\n",
       "      <td>0</td>\n",
       "      <td>1</td>\n",
       "      <td>0</td>\n",
       "      <td>0</td>\n",
       "      <td>0</td>\n",
       "    </tr>\n",
       "    <tr>\n",
       "      <th>3</th>\n",
       "      <td>3d technology</td>\n",
       "      <td>0</td>\n",
       "      <td>0</td>\n",
       "      <td>0</td>\n",
       "      <td>0</td>\n",
       "      <td>0</td>\n",
       "      <td>1</td>\n",
       "      <td>0</td>\n",
       "      <td>0</td>\n",
       "      <td>0</td>\n",
       "    </tr>\n",
       "    <tr>\n",
       "      <th>4</th>\n",
       "      <td>accounting</td>\n",
       "      <td>0</td>\n",
       "      <td>0</td>\n",
       "      <td>0</td>\n",
       "      <td>0</td>\n",
       "      <td>0</td>\n",
       "      <td>0</td>\n",
       "      <td>0</td>\n",
       "      <td>0</td>\n",
       "      <td>1</td>\n",
       "    </tr>\n",
       "    <tr>\n",
       "      <th>5</th>\n",
       "      <td>active lifestyle</td>\n",
       "      <td>0</td>\n",
       "      <td>0</td>\n",
       "      <td>0</td>\n",
       "      <td>0</td>\n",
       "      <td>1</td>\n",
       "      <td>0</td>\n",
       "      <td>0</td>\n",
       "      <td>0</td>\n",
       "      <td>0</td>\n",
       "    </tr>\n",
       "  </tbody>\n",
       "</table>\n",
       "</div>"
      ],
      "text/plain": [
       "      category_list  Automotive & Sports  Blanks  Cleantech / Semiconductors  \\\n",
       "1                3d                    0       0                           0   \n",
       "2       3d printing                    0       0                           0   \n",
       "3     3d technology                    0       0                           0   \n",
       "4        accounting                    0       0                           0   \n",
       "5  active lifestyle                    0       0                           0   \n",
       "\n",
       "   Entertainment  Health  Manufacturing  News, Search and Messaging  Others  \\\n",
       "1              0       0              1                           0       0   \n",
       "2              0       0              1                           0       0   \n",
       "3              0       0              1                           0       0   \n",
       "4              0       0              0                           0       0   \n",
       "5              0       1              0                           0       0   \n",
       "\n",
       "   Social, Finance, Analytics, Advertising  \n",
       "1                                        0  \n",
       "2                                        0  \n",
       "3                                        0  \n",
       "4                                        1  \n",
       "5                                        0  "
      ]
     },
     "execution_count": 44,
     "metadata": {},
     "output_type": "execute_result"
    }
   ],
   "source": [
    "mapping_df.head()"
   ]
  },
  {
   "cell_type": "code",
   "execution_count": 45,
   "metadata": {},
   "outputs": [
    {
     "data": {
      "text/plain": [
       "0tural resources           1\n",
       "green                      1\n",
       "android                    1\n",
       "mhealth                    1\n",
       "communications hardware    1\n",
       "                          ..\n",
       "human resources            1\n",
       "recreation                 1\n",
       "fitness                    1\n",
       "billing                    1\n",
       "enterprise 2.0             1\n",
       "Name: category_list, Length: 687, dtype: int64"
      ]
     },
     "execution_count": 45,
     "metadata": {},
     "output_type": "execute_result"
    }
   ],
   "source": [
    "mapping_df.category_list.value_counts()\n"
   ]
  },
  {
   "cell_type": "code",
   "execution_count": null,
   "metadata": {},
   "outputs": [],
   "source": []
  },
  {
   "cell_type": "code",
   "execution_count": 46,
   "metadata": {},
   "outputs": [
    {
     "data": {
      "text/plain": [
       "category_list                              object\n",
       "Automotive & Sports                         int64\n",
       "Blanks                                      int64\n",
       "Cleantech / Semiconductors                  int64\n",
       "Entertainment                               int64\n",
       "Health                                      int64\n",
       "Manufacturing                               int64\n",
       "News, Search and Messaging                  int64\n",
       "Others                                      int64\n",
       "Social, Finance, Analytics, Advertising     int64\n",
       "dtype: object"
      ]
     },
     "execution_count": 46,
     "metadata": {},
     "output_type": "execute_result"
    }
   ],
   "source": [
    "\n",
    "mapping_df.dtypes\n"
   ]
  },
  {
   "cell_type": "code",
   "execution_count": 47,
   "metadata": {},
   "outputs": [
    {
     "data": {
      "text/plain": [
       "(18037, 12)"
      ]
     },
     "execution_count": 47,
     "metadata": {},
     "output_type": "execute_result"
    }
   ],
   "source": [
    "master_df_sorted.shape"
   ]
  },
  {
   "cell_type": "code",
   "execution_count": 48,
   "metadata": {},
   "outputs": [
    {
     "data": {
      "text/html": [
       "<div>\n",
       "<style scoped>\n",
       "    .dataframe tbody tr th:only-of-type {\n",
       "        vertical-align: middle;\n",
       "    }\n",
       "\n",
       "    .dataframe tbody tr th {\n",
       "        vertical-align: top;\n",
       "    }\n",
       "\n",
       "    .dataframe thead th {\n",
       "        text-align: right;\n",
       "    }\n",
       "</style>\n",
       "<table border=\"1\" class=\"dataframe\">\n",
       "  <thead>\n",
       "    <tr style=\"text-align: right;\">\n",
       "      <th></th>\n",
       "      <th>category_list</th>\n",
       "      <th>Automotive &amp; Sports</th>\n",
       "      <th>Blanks</th>\n",
       "      <th>Cleantech / Semiconductors</th>\n",
       "      <th>Entertainment</th>\n",
       "      <th>Health</th>\n",
       "      <th>Manufacturing</th>\n",
       "      <th>News, Search and Messaging</th>\n",
       "      <th>Others</th>\n",
       "      <th>Social, Finance, Analytics, Advertising</th>\n",
       "    </tr>\n",
       "  </thead>\n",
       "  <tbody>\n",
       "    <tr>\n",
       "      <th>1</th>\n",
       "      <td>3d</td>\n",
       "      <td>0</td>\n",
       "      <td>0</td>\n",
       "      <td>0</td>\n",
       "      <td>0</td>\n",
       "      <td>0</td>\n",
       "      <td>1</td>\n",
       "      <td>0</td>\n",
       "      <td>0</td>\n",
       "      <td>0</td>\n",
       "    </tr>\n",
       "    <tr>\n",
       "      <th>2</th>\n",
       "      <td>3d printing</td>\n",
       "      <td>0</td>\n",
       "      <td>0</td>\n",
       "      <td>0</td>\n",
       "      <td>0</td>\n",
       "      <td>0</td>\n",
       "      <td>1</td>\n",
       "      <td>0</td>\n",
       "      <td>0</td>\n",
       "      <td>0</td>\n",
       "    </tr>\n",
       "    <tr>\n",
       "      <th>3</th>\n",
       "      <td>3d technology</td>\n",
       "      <td>0</td>\n",
       "      <td>0</td>\n",
       "      <td>0</td>\n",
       "      <td>0</td>\n",
       "      <td>0</td>\n",
       "      <td>1</td>\n",
       "      <td>0</td>\n",
       "      <td>0</td>\n",
       "      <td>0</td>\n",
       "    </tr>\n",
       "    <tr>\n",
       "      <th>4</th>\n",
       "      <td>accounting</td>\n",
       "      <td>0</td>\n",
       "      <td>0</td>\n",
       "      <td>0</td>\n",
       "      <td>0</td>\n",
       "      <td>0</td>\n",
       "      <td>0</td>\n",
       "      <td>0</td>\n",
       "      <td>0</td>\n",
       "      <td>1</td>\n",
       "    </tr>\n",
       "    <tr>\n",
       "      <th>5</th>\n",
       "      <td>active lifestyle</td>\n",
       "      <td>0</td>\n",
       "      <td>0</td>\n",
       "      <td>0</td>\n",
       "      <td>0</td>\n",
       "      <td>1</td>\n",
       "      <td>0</td>\n",
       "      <td>0</td>\n",
       "      <td>0</td>\n",
       "      <td>0</td>\n",
       "    </tr>\n",
       "  </tbody>\n",
       "</table>\n",
       "</div>"
      ],
      "text/plain": [
       "      category_list  Automotive & Sports  Blanks  Cleantech / Semiconductors  \\\n",
       "1                3d                    0       0                           0   \n",
       "2       3d printing                    0       0                           0   \n",
       "3     3d technology                    0       0                           0   \n",
       "4        accounting                    0       0                           0   \n",
       "5  active lifestyle                    0       0                           0   \n",
       "\n",
       "   Entertainment  Health  Manufacturing  News, Search and Messaging  Others  \\\n",
       "1              0       0              1                           0       0   \n",
       "2              0       0              1                           0       0   \n",
       "3              0       0              1                           0       0   \n",
       "4              0       0              0                           0       0   \n",
       "5              0       1              0                           0       0   \n",
       "\n",
       "   Social, Finance, Analytics, Advertising  \n",
       "1                                        0  \n",
       "2                                        0  \n",
       "3                                        0  \n",
       "4                                        1  \n",
       "5                                        0  "
      ]
     },
     "execution_count": 48,
     "metadata": {},
     "output_type": "execute_result"
    }
   ],
   "source": [
    "\n",
    "\n",
    "mapping_df.head()"
   ]
  },
  {
   "cell_type": "code",
   "execution_count": 49,
   "metadata": {},
   "outputs": [
    {
     "data": {
      "text/html": [
       "<div>\n",
       "<style scoped>\n",
       "    .dataframe tbody tr th:only-of-type {\n",
       "        vertical-align: middle;\n",
       "    }\n",
       "\n",
       "    .dataframe tbody tr th {\n",
       "        vertical-align: top;\n",
       "    }\n",
       "\n",
       "    .dataframe thead th {\n",
       "        text-align: right;\n",
       "    }\n",
       "</style>\n",
       "<table border=\"1\" class=\"dataframe\">\n",
       "  <thead>\n",
       "    <tr style=\"text-align: right;\">\n",
       "      <th></th>\n",
       "      <th>Automotive &amp; Sports</th>\n",
       "      <th>Blanks</th>\n",
       "      <th>Cleantech / Semiconductors</th>\n",
       "      <th>Entertainment</th>\n",
       "      <th>Health</th>\n",
       "      <th>Manufacturing</th>\n",
       "      <th>News, Search and Messaging</th>\n",
       "      <th>Others</th>\n",
       "      <th>Social, Finance, Analytics, Advertising</th>\n",
       "    </tr>\n",
       "  </thead>\n",
       "  <tbody>\n",
       "    <tr>\n",
       "      <th>1</th>\n",
       "      <td>0</td>\n",
       "      <td>0</td>\n",
       "      <td>0</td>\n",
       "      <td>0</td>\n",
       "      <td>0</td>\n",
       "      <td>1</td>\n",
       "      <td>0</td>\n",
       "      <td>0</td>\n",
       "      <td>0</td>\n",
       "    </tr>\n",
       "    <tr>\n",
       "      <th>2</th>\n",
       "      <td>0</td>\n",
       "      <td>0</td>\n",
       "      <td>0</td>\n",
       "      <td>0</td>\n",
       "      <td>0</td>\n",
       "      <td>1</td>\n",
       "      <td>0</td>\n",
       "      <td>0</td>\n",
       "      <td>0</td>\n",
       "    </tr>\n",
       "    <tr>\n",
       "      <th>3</th>\n",
       "      <td>0</td>\n",
       "      <td>0</td>\n",
       "      <td>0</td>\n",
       "      <td>0</td>\n",
       "      <td>0</td>\n",
       "      <td>1</td>\n",
       "      <td>0</td>\n",
       "      <td>0</td>\n",
       "      <td>0</td>\n",
       "    </tr>\n",
       "    <tr>\n",
       "      <th>4</th>\n",
       "      <td>0</td>\n",
       "      <td>0</td>\n",
       "      <td>0</td>\n",
       "      <td>0</td>\n",
       "      <td>0</td>\n",
       "      <td>0</td>\n",
       "      <td>0</td>\n",
       "      <td>0</td>\n",
       "      <td>1</td>\n",
       "    </tr>\n",
       "    <tr>\n",
       "      <th>5</th>\n",
       "      <td>0</td>\n",
       "      <td>0</td>\n",
       "      <td>0</td>\n",
       "      <td>0</td>\n",
       "      <td>1</td>\n",
       "      <td>0</td>\n",
       "      <td>0</td>\n",
       "      <td>0</td>\n",
       "      <td>0</td>\n",
       "    </tr>\n",
       "    <tr>\n",
       "      <th>...</th>\n",
       "      <td>...</td>\n",
       "      <td>...</td>\n",
       "      <td>...</td>\n",
       "      <td>...</td>\n",
       "      <td>...</td>\n",
       "      <td>...</td>\n",
       "      <td>...</td>\n",
       "      <td>...</td>\n",
       "      <td>...</td>\n",
       "    </tr>\n",
       "    <tr>\n",
       "      <th>683</th>\n",
       "      <td>0</td>\n",
       "      <td>0</td>\n",
       "      <td>0</td>\n",
       "      <td>0</td>\n",
       "      <td>0</td>\n",
       "      <td>0</td>\n",
       "      <td>0</td>\n",
       "      <td>1</td>\n",
       "      <td>0</td>\n",
       "    </tr>\n",
       "    <tr>\n",
       "      <th>684</th>\n",
       "      <td>0</td>\n",
       "      <td>0</td>\n",
       "      <td>0</td>\n",
       "      <td>1</td>\n",
       "      <td>0</td>\n",
       "      <td>0</td>\n",
       "      <td>0</td>\n",
       "      <td>0</td>\n",
       "      <td>0</td>\n",
       "    </tr>\n",
       "    <tr>\n",
       "      <th>685</th>\n",
       "      <td>0</td>\n",
       "      <td>0</td>\n",
       "      <td>0</td>\n",
       "      <td>1</td>\n",
       "      <td>0</td>\n",
       "      <td>0</td>\n",
       "      <td>0</td>\n",
       "      <td>0</td>\n",
       "      <td>0</td>\n",
       "    </tr>\n",
       "    <tr>\n",
       "      <th>686</th>\n",
       "      <td>0</td>\n",
       "      <td>0</td>\n",
       "      <td>0</td>\n",
       "      <td>0</td>\n",
       "      <td>0</td>\n",
       "      <td>0</td>\n",
       "      <td>0</td>\n",
       "      <td>1</td>\n",
       "      <td>0</td>\n",
       "    </tr>\n",
       "    <tr>\n",
       "      <th>687</th>\n",
       "      <td>0</td>\n",
       "      <td>0</td>\n",
       "      <td>0</td>\n",
       "      <td>0</td>\n",
       "      <td>0</td>\n",
       "      <td>0</td>\n",
       "      <td>0</td>\n",
       "      <td>1</td>\n",
       "      <td>0</td>\n",
       "    </tr>\n",
       "  </tbody>\n",
       "</table>\n",
       "<p>687 rows × 9 columns</p>\n",
       "</div>"
      ],
      "text/plain": [
       "     Automotive & Sports  Blanks  Cleantech / Semiconductors  Entertainment  \\\n",
       "1                      0       0                           0              0   \n",
       "2                      0       0                           0              0   \n",
       "3                      0       0                           0              0   \n",
       "4                      0       0                           0              0   \n",
       "5                      0       0                           0              0   \n",
       "..                   ...     ...                         ...            ...   \n",
       "683                    0       0                           0              0   \n",
       "684                    0       0                           0              1   \n",
       "685                    0       0                           0              1   \n",
       "686                    0       0                           0              0   \n",
       "687                    0       0                           0              0   \n",
       "\n",
       "     Health  Manufacturing  News, Search and Messaging  Others  \\\n",
       "1         0              1                           0       0   \n",
       "2         0              1                           0       0   \n",
       "3         0              1                           0       0   \n",
       "4         0              0                           0       0   \n",
       "5         1              0                           0       0   \n",
       "..      ...            ...                         ...     ...   \n",
       "683       0              0                           0       1   \n",
       "684       0              0                           0       0   \n",
       "685       0              0                           0       0   \n",
       "686       0              0                           0       1   \n",
       "687       0              0                           0       1   \n",
       "\n",
       "     Social, Finance, Analytics, Advertising  \n",
       "1                                          0  \n",
       "2                                          0  \n",
       "3                                          0  \n",
       "4                                          1  \n",
       "5                                          0  \n",
       "..                                       ...  \n",
       "683                                        0  \n",
       "684                                        0  \n",
       "685                                        0  \n",
       "686                                        0  \n",
       "687                                        0  \n",
       "\n",
       "[687 rows x 9 columns]"
      ]
     },
     "execution_count": 49,
     "metadata": {},
     "output_type": "execute_result"
    }
   ],
   "source": [
    "x = mapping_df.iloc[:,1:]\n",
    "x"
   ]
  },
  {
   "cell_type": "code",
   "execution_count": 50,
   "metadata": {},
   "outputs": [],
   "source": [
    "x = x.idxmax(axis=1)\n"
   ]
  },
  {
   "cell_type": "code",
   "execution_count": 51,
   "metadata": {},
   "outputs": [
    {
     "data": {
      "text/html": [
       "<div>\n",
       "<style scoped>\n",
       "    .dataframe tbody tr th:only-of-type {\n",
       "        vertical-align: middle;\n",
       "    }\n",
       "\n",
       "    .dataframe tbody tr th {\n",
       "        vertical-align: top;\n",
       "    }\n",
       "\n",
       "    .dataframe thead th {\n",
       "        text-align: right;\n",
       "    }\n",
       "</style>\n",
       "<table border=\"1\" class=\"dataframe\">\n",
       "  <thead>\n",
       "    <tr style=\"text-align: right;\">\n",
       "      <th></th>\n",
       "      <th>0</th>\n",
       "    </tr>\n",
       "  </thead>\n",
       "  <tbody>\n",
       "    <tr>\n",
       "      <th>1</th>\n",
       "      <td>Manufacturing</td>\n",
       "    </tr>\n",
       "    <tr>\n",
       "      <th>2</th>\n",
       "      <td>Manufacturing</td>\n",
       "    </tr>\n",
       "    <tr>\n",
       "      <th>3</th>\n",
       "      <td>Manufacturing</td>\n",
       "    </tr>\n",
       "    <tr>\n",
       "      <th>4</th>\n",
       "      <td>Social, Finance, Analytics, Advertising</td>\n",
       "    </tr>\n",
       "    <tr>\n",
       "      <th>5</th>\n",
       "      <td>Health</td>\n",
       "    </tr>\n",
       "    <tr>\n",
       "      <th>...</th>\n",
       "      <td>...</td>\n",
       "    </tr>\n",
       "    <tr>\n",
       "      <th>683</th>\n",
       "      <td>Others</td>\n",
       "    </tr>\n",
       "    <tr>\n",
       "      <th>684</th>\n",
       "      <td>Entertainment</td>\n",
       "    </tr>\n",
       "    <tr>\n",
       "      <th>685</th>\n",
       "      <td>Entertainment</td>\n",
       "    </tr>\n",
       "    <tr>\n",
       "      <th>686</th>\n",
       "      <td>Others</td>\n",
       "    </tr>\n",
       "    <tr>\n",
       "      <th>687</th>\n",
       "      <td>Others</td>\n",
       "    </tr>\n",
       "  </tbody>\n",
       "</table>\n",
       "<p>687 rows × 1 columns</p>\n",
       "</div>"
      ],
      "text/plain": [
       "                                           0\n",
       "1                              Manufacturing\n",
       "2                              Manufacturing\n",
       "3                              Manufacturing\n",
       "4    Social, Finance, Analytics, Advertising\n",
       "5                                     Health\n",
       "..                                       ...\n",
       "683                                   Others\n",
       "684                            Entertainment\n",
       "685                            Entertainment\n",
       "686                                   Others\n",
       "687                                   Others\n",
       "\n",
       "[687 rows x 1 columns]"
      ]
     },
     "execution_count": 51,
     "metadata": {},
     "output_type": "execute_result"
    }
   ],
   "source": [
    "#creating sector dataframe from mapping dataframe and add a column in mapping_df\n",
    "\n",
    "sector_df = pd.DataFrame(x)\n",
    "sector_df.head()\n",
    "mapping_df['main_sector'] = sector_df[0]\n",
    "mapping_df.head()\n",
    "master_df_sorted.shape\n",
    "sector_df"
   ]
  },
  {
   "cell_type": "code",
   "execution_count": 52,
   "metadata": {},
   "outputs": [],
   "source": [
    "#remove null values\n",
    "mapping_df.dropna()\n",
    "mapping_df = mapping_df.drop(['Automotive & Sports','Blanks','Cleantech / Semiconductors','Entertainment','Health','Manufacturing','News, Search and Messaging','Others','Social, Finance, Analytics, Advertising'], axis = 1) \n"
   ]
  },
  {
   "cell_type": "code",
   "execution_count": 53,
   "metadata": {},
   "outputs": [],
   "source": [
    "mapping_df['category_list'] = mapping_df.category_list.apply(lambda cat_list: re.sub('[0]', 'na', cat_list))"
   ]
  },
  {
   "cell_type": "code",
   "execution_count": 54,
   "metadata": {},
   "outputs": [
    {
     "data": {
      "text/plain": [
       "biotechnology          2270\n",
       "software               1428\n",
       "advertising             895\n",
       "enterprise software     802\n",
       "health care             693\n",
       "                       ... \n",
       "governance                1\n",
       "mobile health             1\n",
       "mhealth                   1\n",
       "civil engineers           1\n",
       "educational games         1\n",
       "Name: primary_sector, Length: 489, dtype: int64"
      ]
     },
     "execution_count": 54,
     "metadata": {},
     "output_type": "execute_result"
    }
   ],
   "source": [
    "#Extract the primary sector of each category list from the category_list column\n",
    "master_df_sorted['primary_sector'] = master_df_sorted[\"category_list\"].str.split(\"|\", n = 1, expand = True)[0]\n",
    "\n",
    "master_df_sorted['primary_sector'] = master_df_sorted.primary_sector.apply(lambda x: str(x).lower())\n",
    "\n",
    "master_df_sorted.primary_sector.value_counts()\n"
   ]
  },
  {
   "cell_type": "code",
   "execution_count": 55,
   "metadata": {},
   "outputs": [
    {
     "data": {
      "text/html": [
       "<div>\n",
       "<style scoped>\n",
       "    .dataframe tbody tr th:only-of-type {\n",
       "        vertical-align: middle;\n",
       "    }\n",
       "\n",
       "    .dataframe tbody tr th {\n",
       "        vertical-align: top;\n",
       "    }\n",
       "\n",
       "    .dataframe thead th {\n",
       "        text-align: right;\n",
       "    }\n",
       "</style>\n",
       "<table border=\"1\" class=\"dataframe\">\n",
       "  <thead>\n",
       "    <tr style=\"text-align: right;\">\n",
       "      <th></th>\n",
       "      <th>company_permalink</th>\n",
       "      <th>funding_round_permalink</th>\n",
       "      <th>funding_round_type</th>\n",
       "      <th>funding_round_code</th>\n",
       "      <th>funded_at</th>\n",
       "      <th>raised_amount_usd</th>\n",
       "      <th>permalink</th>\n",
       "      <th>name</th>\n",
       "      <th>category_list_x</th>\n",
       "      <th>status</th>\n",
       "      <th>country_code</th>\n",
       "      <th>raised_amount_usd_millions</th>\n",
       "      <th>primary_sector</th>\n",
       "      <th>main_sector</th>\n",
       "    </tr>\n",
       "  </thead>\n",
       "  <tbody>\n",
       "    <tr>\n",
       "      <th>0</th>\n",
       "      <td>/organization/-fame</td>\n",
       "      <td>/funding-round/9a01d05418af9f794eebff7ace91f638</td>\n",
       "      <td>venture</td>\n",
       "      <td>B</td>\n",
       "      <td>05-01-2015</td>\n",
       "      <td>10000000.0</td>\n",
       "      <td>/organization/-fame</td>\n",
       "      <td>#fame</td>\n",
       "      <td>Media</td>\n",
       "      <td>operating</td>\n",
       "      <td>IND</td>\n",
       "      <td>10.000000</td>\n",
       "      <td>media</td>\n",
       "      <td>Entertainment</td>\n",
       "    </tr>\n",
       "    <tr>\n",
       "      <th>1</th>\n",
       "      <td>/organization/90min</td>\n",
       "      <td>/funding-round/21a2cbf6f2fb2a1c2a61e04bf930dfe6</td>\n",
       "      <td>venture</td>\n",
       "      <td>NaN</td>\n",
       "      <td>06-10-2015</td>\n",
       "      <td>15000000.0</td>\n",
       "      <td>/organization/90min</td>\n",
       "      <td>90min</td>\n",
       "      <td>Media|News|Publishing|Soccer|Sports</td>\n",
       "      <td>operating</td>\n",
       "      <td>GBR</td>\n",
       "      <td>15.000000</td>\n",
       "      <td>media</td>\n",
       "      <td>Entertainment</td>\n",
       "    </tr>\n",
       "    <tr>\n",
       "      <th>2</th>\n",
       "      <td>/organization/90min</td>\n",
       "      <td>/funding-round/bd626ed022f5c66574b1afe234f3c90d</td>\n",
       "      <td>venture</td>\n",
       "      <td>NaN</td>\n",
       "      <td>07-05-2013</td>\n",
       "      <td>5800000.0</td>\n",
       "      <td>/organization/90min</td>\n",
       "      <td>90min</td>\n",
       "      <td>Media|News|Publishing|Soccer|Sports</td>\n",
       "      <td>operating</td>\n",
       "      <td>GBR</td>\n",
       "      <td>5.800000</td>\n",
       "      <td>media</td>\n",
       "      <td>Entertainment</td>\n",
       "    </tr>\n",
       "    <tr>\n",
       "      <th>3</th>\n",
       "      <td>/organization/all-def-digital</td>\n",
       "      <td>/funding-round/452a2342fe720285c3b92e9bd927d9ba</td>\n",
       "      <td>venture</td>\n",
       "      <td>A</td>\n",
       "      <td>06-08-2014</td>\n",
       "      <td>5000000.0</td>\n",
       "      <td>/organization/all-def-digital</td>\n",
       "      <td>All Def Digital</td>\n",
       "      <td>Media</td>\n",
       "      <td>operating</td>\n",
       "      <td>USA</td>\n",
       "      <td>5.000000</td>\n",
       "      <td>media</td>\n",
       "      <td>Entertainment</td>\n",
       "    </tr>\n",
       "    <tr>\n",
       "      <th>4</th>\n",
       "      <td>/organization/basel-switzerland</td>\n",
       "      <td>/funding-round/ae3c2e82851d1fd6f4ba59ee6d3f0eb2</td>\n",
       "      <td>venture</td>\n",
       "      <td>NaN</td>\n",
       "      <td>07-01-2002</td>\n",
       "      <td>13439178.0</td>\n",
       "      <td>/organization/basel-switzerland</td>\n",
       "      <td>The Speedel Group</td>\n",
       "      <td>Media</td>\n",
       "      <td>closed</td>\n",
       "      <td>CHE</td>\n",
       "      <td>13.439178</td>\n",
       "      <td>media</td>\n",
       "      <td>Entertainment</td>\n",
       "    </tr>\n",
       "  </tbody>\n",
       "</table>\n",
       "</div>"
      ],
      "text/plain": [
       "                 company_permalink  \\\n",
       "0              /organization/-fame   \n",
       "1              /organization/90min   \n",
       "2              /organization/90min   \n",
       "3    /organization/all-def-digital   \n",
       "4  /organization/basel-switzerland   \n",
       "\n",
       "                           funding_round_permalink funding_round_type  \\\n",
       "0  /funding-round/9a01d05418af9f794eebff7ace91f638            venture   \n",
       "1  /funding-round/21a2cbf6f2fb2a1c2a61e04bf930dfe6            venture   \n",
       "2  /funding-round/bd626ed022f5c66574b1afe234f3c90d            venture   \n",
       "3  /funding-round/452a2342fe720285c3b92e9bd927d9ba            venture   \n",
       "4  /funding-round/ae3c2e82851d1fd6f4ba59ee6d3f0eb2            venture   \n",
       "\n",
       "  funding_round_code   funded_at  raised_amount_usd  \\\n",
       "0                  B  05-01-2015         10000000.0   \n",
       "1                NaN  06-10-2015         15000000.0   \n",
       "2                NaN  07-05-2013          5800000.0   \n",
       "3                  A  06-08-2014          5000000.0   \n",
       "4                NaN  07-01-2002         13439178.0   \n",
       "\n",
       "                         permalink               name  \\\n",
       "0              /organization/-fame              #fame   \n",
       "1              /organization/90min              90min   \n",
       "2              /organization/90min              90min   \n",
       "3    /organization/all-def-digital    All Def Digital   \n",
       "4  /organization/basel-switzerland  The Speedel Group   \n",
       "\n",
       "                       category_list_x     status country_code  \\\n",
       "0                                Media  operating          IND   \n",
       "1  Media|News|Publishing|Soccer|Sports  operating          GBR   \n",
       "2  Media|News|Publishing|Soccer|Sports  operating          GBR   \n",
       "3                                Media  operating          USA   \n",
       "4                                Media     closed          CHE   \n",
       "\n",
       "   raised_amount_usd_millions primary_sector    main_sector  \n",
       "0                   10.000000          media  Entertainment  \n",
       "1                   15.000000          media  Entertainment  \n",
       "2                    5.800000          media  Entertainment  \n",
       "3                    5.000000          media  Entertainment  \n",
       "4                   13.439178          media  Entertainment  "
      ]
     },
     "execution_count": 55,
     "metadata": {},
     "output_type": "execute_result"
    }
   ],
   "source": [
    "#Use the mapping file 'mapping.csv' to map each primary sector to one of the eight main sectors \n",
    "master_df_sorted.head()\n",
    "master_df_sector = pd.merge(left=master_df_sorted,right=mapping_df, how='inner',left_on='primary_sector', right_on='category_list')\n",
    "master_df_sector = master_df_sector.drop(['category_list_y'], axis = 1) \n",
    "master_df_sector.head()\n",
    "#master_df_sorted.shape"
   ]
  },
  {
   "cell_type": "code",
   "execution_count": 56,
   "metadata": {},
   "outputs": [
    {
     "data": {
      "text/plain": [
       "Others                                     4299\n",
       "Social, Finance, Analytics, Advertising    3793\n",
       "Cleantech / Semiconductors                 3673\n",
       "News, Search and Messaging                 2262\n",
       "Health                                     1379\n",
       "Manufacturing                              1205\n",
       "Entertainment                               988\n",
       "Automotive & Sports                         285\n",
       "Name: main_sector, dtype: int64"
      ]
     },
     "execution_count": 56,
     "metadata": {},
     "output_type": "execute_result"
    }
   ],
   "source": [
    "master_df_sector.main_sector.value_counts()"
   ]
  },
  {
   "cell_type": "markdown",
   "metadata": {},
   "source": [
    "# Checkpoint 5: Sector Analysis 2"
   ]
  },
  {
   "cell_type": "code",
   "execution_count": 57,
   "metadata": {},
   "outputs": [],
   "source": [
    "# create 3 Dataframes D1, D2, D3 \n",
    "# 1. Fund type venture and Fund range 5-15 M and for country USA \n",
    "# 2. Fund type venture and Fund range 5-15 M and for country GBR \n",
    "# 3. Fund type venture and Fund range 5-15 M and for country IND "
   ]
  },
  {
   "cell_type": "code",
   "execution_count": null,
   "metadata": {},
   "outputs": [],
   "source": []
  },
  {
   "cell_type": "code",
   "execution_count": 58,
   "metadata": {},
   "outputs": [
    {
     "data": {
      "text/plain": [
       "(15770, 14)"
      ]
     },
     "execution_count": 58,
     "metadata": {},
     "output_type": "execute_result"
    }
   ],
   "source": [
    "#\n",
    "master_df_sector = master_df_sector.loc[master_df_sector.funding_round_type=='venture']\n",
    "\n",
    "master_df_sector.shape"
   ]
  },
  {
   "cell_type": "code",
   "execution_count": 59,
   "metadata": {},
   "outputs": [
    {
     "data": {
      "text/plain": [
       "(13106, 14)"
      ]
     },
     "execution_count": 59,
     "metadata": {},
     "output_type": "execute_result"
    }
   ],
   "source": [
    "master_df_sector = master_df_sector.loc[(master_df_sector.country_code=='CAN') | (master_df_sector.country_code=='USA') | (master_df_sector.country_code=='GBR')]\n",
    "\n",
    "master_df_sector.shape"
   ]
  },
  {
   "cell_type": "code",
   "execution_count": 60,
   "metadata": {},
   "outputs": [
    {
     "data": {
      "text/html": [
       "<div>\n",
       "<style scoped>\n",
       "    .dataframe tbody tr th:only-of-type {\n",
       "        vertical-align: middle;\n",
       "    }\n",
       "\n",
       "    .dataframe tbody tr th {\n",
       "        vertical-align: top;\n",
       "    }\n",
       "\n",
       "    .dataframe thead th {\n",
       "        text-align: right;\n",
       "    }\n",
       "</style>\n",
       "<table border=\"1\" class=\"dataframe\">\n",
       "  <thead>\n",
       "    <tr style=\"text-align: right;\">\n",
       "      <th></th>\n",
       "      <th>company_permalink</th>\n",
       "      <th>funding_round_permalink</th>\n",
       "      <th>funding_round_type</th>\n",
       "      <th>funding_round_code</th>\n",
       "      <th>funded_at</th>\n",
       "      <th>raised_amount_usd</th>\n",
       "      <th>permalink</th>\n",
       "      <th>name</th>\n",
       "      <th>category_list_x</th>\n",
       "      <th>status</th>\n",
       "      <th>country_code</th>\n",
       "      <th>raised_amount_usd_millions</th>\n",
       "      <th>primary_sector</th>\n",
       "      <th>main_sector</th>\n",
       "    </tr>\n",
       "  </thead>\n",
       "  <tbody>\n",
       "    <tr>\n",
       "      <th>1</th>\n",
       "      <td>/organization/90min</td>\n",
       "      <td>/funding-round/21a2cbf6f2fb2a1c2a61e04bf930dfe6</td>\n",
       "      <td>venture</td>\n",
       "      <td>NaN</td>\n",
       "      <td>06-10-2015</td>\n",
       "      <td>15000000.0</td>\n",
       "      <td>/organization/90min</td>\n",
       "      <td>90min</td>\n",
       "      <td>Media|News|Publishing|Soccer|Sports</td>\n",
       "      <td>operating</td>\n",
       "      <td>GBR</td>\n",
       "      <td>15.0</td>\n",
       "      <td>media</td>\n",
       "      <td>Entertainment</td>\n",
       "    </tr>\n",
       "    <tr>\n",
       "      <th>2</th>\n",
       "      <td>/organization/90min</td>\n",
       "      <td>/funding-round/bd626ed022f5c66574b1afe234f3c90d</td>\n",
       "      <td>venture</td>\n",
       "      <td>NaN</td>\n",
       "      <td>07-05-2013</td>\n",
       "      <td>5800000.0</td>\n",
       "      <td>/organization/90min</td>\n",
       "      <td>90min</td>\n",
       "      <td>Media|News|Publishing|Soccer|Sports</td>\n",
       "      <td>operating</td>\n",
       "      <td>GBR</td>\n",
       "      <td>5.8</td>\n",
       "      <td>media</td>\n",
       "      <td>Entertainment</td>\n",
       "    </tr>\n",
       "    <tr>\n",
       "      <th>3</th>\n",
       "      <td>/organization/all-def-digital</td>\n",
       "      <td>/funding-round/452a2342fe720285c3b92e9bd927d9ba</td>\n",
       "      <td>venture</td>\n",
       "      <td>A</td>\n",
       "      <td>06-08-2014</td>\n",
       "      <td>5000000.0</td>\n",
       "      <td>/organization/all-def-digital</td>\n",
       "      <td>All Def Digital</td>\n",
       "      <td>Media</td>\n",
       "      <td>operating</td>\n",
       "      <td>USA</td>\n",
       "      <td>5.0</td>\n",
       "      <td>media</td>\n",
       "      <td>Entertainment</td>\n",
       "    </tr>\n",
       "    <tr>\n",
       "      <th>5</th>\n",
       "      <td>/organization/chefs-feed</td>\n",
       "      <td>/funding-round/adca195749ae9ace84684723fbe75e5b</td>\n",
       "      <td>venture</td>\n",
       "      <td>A</td>\n",
       "      <td>26-02-2015</td>\n",
       "      <td>5000000.0</td>\n",
       "      <td>/organization/chefs-feed</td>\n",
       "      <td>ChefsFeed</td>\n",
       "      <td>Media|Mobile|Restaurants|Technology</td>\n",
       "      <td>operating</td>\n",
       "      <td>USA</td>\n",
       "      <td>5.0</td>\n",
       "      <td>media</td>\n",
       "      <td>Entertainment</td>\n",
       "    </tr>\n",
       "    <tr>\n",
       "      <th>6</th>\n",
       "      <td>/organization/huffingtonpost</td>\n",
       "      <td>/funding-round/7f05940c4d2dfecb8e50a0e5720e5065</td>\n",
       "      <td>venture</td>\n",
       "      <td>A</td>\n",
       "      <td>01-08-2006</td>\n",
       "      <td>5000000.0</td>\n",
       "      <td>/organization/huffingtonpost</td>\n",
       "      <td>The Huffington Post</td>\n",
       "      <td>Media|News|Publishing</td>\n",
       "      <td>acquired</td>\n",
       "      <td>USA</td>\n",
       "      <td>5.0</td>\n",
       "      <td>media</td>\n",
       "      <td>Entertainment</td>\n",
       "    </tr>\n",
       "  </tbody>\n",
       "</table>\n",
       "</div>"
      ],
      "text/plain": [
       "               company_permalink  \\\n",
       "1            /organization/90min   \n",
       "2            /organization/90min   \n",
       "3  /organization/all-def-digital   \n",
       "5       /organization/chefs-feed   \n",
       "6   /organization/huffingtonpost   \n",
       "\n",
       "                           funding_round_permalink funding_round_type  \\\n",
       "1  /funding-round/21a2cbf6f2fb2a1c2a61e04bf930dfe6            venture   \n",
       "2  /funding-round/bd626ed022f5c66574b1afe234f3c90d            venture   \n",
       "3  /funding-round/452a2342fe720285c3b92e9bd927d9ba            venture   \n",
       "5  /funding-round/adca195749ae9ace84684723fbe75e5b            venture   \n",
       "6  /funding-round/7f05940c4d2dfecb8e50a0e5720e5065            venture   \n",
       "\n",
       "  funding_round_code   funded_at  raised_amount_usd  \\\n",
       "1                NaN  06-10-2015         15000000.0   \n",
       "2                NaN  07-05-2013          5800000.0   \n",
       "3                  A  06-08-2014          5000000.0   \n",
       "5                  A  26-02-2015          5000000.0   \n",
       "6                  A  01-08-2006          5000000.0   \n",
       "\n",
       "                       permalink                 name  \\\n",
       "1            /organization/90min                90min   \n",
       "2            /organization/90min                90min   \n",
       "3  /organization/all-def-digital      All Def Digital   \n",
       "5       /organization/chefs-feed            ChefsFeed   \n",
       "6   /organization/huffingtonpost  The Huffington Post   \n",
       "\n",
       "                       category_list_x     status country_code  \\\n",
       "1  Media|News|Publishing|Soccer|Sports  operating          GBR   \n",
       "2  Media|News|Publishing|Soccer|Sports  operating          GBR   \n",
       "3                                Media  operating          USA   \n",
       "5  Media|Mobile|Restaurants|Technology  operating          USA   \n",
       "6                Media|News|Publishing   acquired          USA   \n",
       "\n",
       "   raised_amount_usd_millions primary_sector    main_sector  \n",
       "1                        15.0          media  Entertainment  \n",
       "2                         5.8          media  Entertainment  \n",
       "3                         5.0          media  Entertainment  \n",
       "5                         5.0          media  Entertainment  \n",
       "6                         5.0          media  Entertainment  "
      ]
     },
     "execution_count": 60,
     "metadata": {},
     "output_type": "execute_result"
    }
   ],
   "source": [
    "master_df_sector.head()"
   ]
  },
  {
   "cell_type": "code",
   "execution_count": null,
   "metadata": {},
   "outputs": [],
   "source": []
  },
  {
   "cell_type": "code",
   "execution_count": 61,
   "metadata": {},
   "outputs": [
    {
     "data": {
      "text/plain": [
       "0"
      ]
     },
     "execution_count": 61,
     "metadata": {},
     "output_type": "execute_result"
    }
   ],
   "source": [
    "master_df_sector.main_sector.isnull().sum()"
   ]
  },
  {
   "cell_type": "code",
   "execution_count": 62,
   "metadata": {},
   "outputs": [
    {
     "data": {
      "text/plain": [
       "10.000000    1336\n",
       "5.000000     1325\n",
       "15.000000     871\n",
       "6.000000      788\n",
       "8.000000      710\n",
       "             ... \n",
       "5.299830        1\n",
       "5.692656        1\n",
       "12.550006       1\n",
       "6.309744        1\n",
       "5.095630        1\n",
       "Name: raised_amount_usd_millions, Length: 2061, dtype: int64"
      ]
     },
     "execution_count": 62,
     "metadata": {},
     "output_type": "execute_result"
    }
   ],
   "source": [
    "master_df_sector.raised_amount_usd_millions.value_counts()"
   ]
  },
  {
   "cell_type": "code",
   "execution_count": null,
   "metadata": {},
   "outputs": [],
   "source": []
  },
  {
   "cell_type": "code",
   "execution_count": 63,
   "metadata": {},
   "outputs": [
    {
     "data": {
      "text/plain": [
       "Others                                     3206\n",
       "Social, Finance, Analytics, Advertising    2925\n",
       "Cleantech / Semiconductors                 2592\n",
       "News, Search and Messaging                 1702\n",
       "Health                                      954\n",
       "Manufacturing                               872\n",
       "Entertainment                               670\n",
       "Automotive & Sports                         185\n",
       "Name: main_sector, dtype: int64"
      ]
     },
     "execution_count": 63,
     "metadata": {},
     "output_type": "execute_result"
    }
   ],
   "source": [
    "master_df_sector.main_sector.value_counts()"
   ]
  },
  {
   "cell_type": "code",
   "execution_count": 64,
   "metadata": {},
   "outputs": [
    {
     "data": {
      "text/plain": [
       "count    13106.000000\n",
       "mean         8.907025\n",
       "std          3.061469\n",
       "min          5.000000\n",
       "25%          6.000005\n",
       "50%          8.250000\n",
       "75%         11.000000\n",
       "max         15.000000\n",
       "Name: raised_amount_usd_millions, dtype: float64"
      ]
     },
     "execution_count": 64,
     "metadata": {},
     "output_type": "execute_result"
    }
   ],
   "source": [
    "master_df_sector.raised_amount_usd_millions.describe()\n"
   ]
  },
  {
   "cell_type": "code",
   "execution_count": 65,
   "metadata": {},
   "outputs": [
    {
     "data": {
      "text/html": [
       "<div>\n",
       "<style scoped>\n",
       "    .dataframe tbody tr th:only-of-type {\n",
       "        vertical-align: middle;\n",
       "    }\n",
       "\n",
       "    .dataframe tbody tr th {\n",
       "        vertical-align: top;\n",
       "    }\n",
       "\n",
       "    .dataframe thead th {\n",
       "        text-align: right;\n",
       "    }\n",
       "</style>\n",
       "<table border=\"1\" class=\"dataframe\">\n",
       "  <thead>\n",
       "    <tr style=\"text-align: right;\">\n",
       "      <th></th>\n",
       "      <th>company_permalink</th>\n",
       "      <th>funding_round_permalink</th>\n",
       "      <th>funding_round_type</th>\n",
       "      <th>funding_round_code</th>\n",
       "      <th>funded_at</th>\n",
       "      <th>raised_amount_usd</th>\n",
       "      <th>permalink</th>\n",
       "      <th>name</th>\n",
       "      <th>category_list_x</th>\n",
       "      <th>status</th>\n",
       "      <th>country_code</th>\n",
       "      <th>raised_amount_usd_millions</th>\n",
       "      <th>primary_sector</th>\n",
       "      <th>main_sector</th>\n",
       "    </tr>\n",
       "  </thead>\n",
       "  <tbody>\n",
       "    <tr>\n",
       "      <th>3</th>\n",
       "      <td>/organization/all-def-digital</td>\n",
       "      <td>/funding-round/452a2342fe720285c3b92e9bd927d9ba</td>\n",
       "      <td>venture</td>\n",
       "      <td>A</td>\n",
       "      <td>06-08-2014</td>\n",
       "      <td>5000000.0</td>\n",
       "      <td>/organization/all-def-digital</td>\n",
       "      <td>All Def Digital</td>\n",
       "      <td>Media</td>\n",
       "      <td>operating</td>\n",
       "      <td>USA</td>\n",
       "      <td>5.0</td>\n",
       "      <td>media</td>\n",
       "      <td>Entertainment</td>\n",
       "    </tr>\n",
       "    <tr>\n",
       "      <th>5</th>\n",
       "      <td>/organization/chefs-feed</td>\n",
       "      <td>/funding-round/adca195749ae9ace84684723fbe75e5b</td>\n",
       "      <td>venture</td>\n",
       "      <td>A</td>\n",
       "      <td>26-02-2015</td>\n",
       "      <td>5000000.0</td>\n",
       "      <td>/organization/chefs-feed</td>\n",
       "      <td>ChefsFeed</td>\n",
       "      <td>Media|Mobile|Restaurants|Technology</td>\n",
       "      <td>operating</td>\n",
       "      <td>USA</td>\n",
       "      <td>5.0</td>\n",
       "      <td>media</td>\n",
       "      <td>Entertainment</td>\n",
       "    </tr>\n",
       "    <tr>\n",
       "      <th>6</th>\n",
       "      <td>/organization/huffingtonpost</td>\n",
       "      <td>/funding-round/7f05940c4d2dfecb8e50a0e5720e5065</td>\n",
       "      <td>venture</td>\n",
       "      <td>A</td>\n",
       "      <td>01-08-2006</td>\n",
       "      <td>5000000.0</td>\n",
       "      <td>/organization/huffingtonpost</td>\n",
       "      <td>The Huffington Post</td>\n",
       "      <td>Media|News|Publishing</td>\n",
       "      <td>acquired</td>\n",
       "      <td>USA</td>\n",
       "      <td>5.0</td>\n",
       "      <td>media</td>\n",
       "      <td>Entertainment</td>\n",
       "    </tr>\n",
       "    <tr>\n",
       "      <th>7</th>\n",
       "      <td>/organization/huffingtonpost</td>\n",
       "      <td>/funding-round/9241ae16e08df17ebdc064e49e23035a</td>\n",
       "      <td>venture</td>\n",
       "      <td>B</td>\n",
       "      <td>01-09-2007</td>\n",
       "      <td>5000000.0</td>\n",
       "      <td>/organization/huffingtonpost</td>\n",
       "      <td>The Huffington Post</td>\n",
       "      <td>Media|News|Publishing</td>\n",
       "      <td>acquired</td>\n",
       "      <td>USA</td>\n",
       "      <td>5.0</td>\n",
       "      <td>media</td>\n",
       "      <td>Entertainment</td>\n",
       "    </tr>\n",
       "    <tr>\n",
       "      <th>8</th>\n",
       "      <td>/organization/matchmine</td>\n",
       "      <td>/funding-round/41ac526630da57ad6eb9d02431b17657</td>\n",
       "      <td>venture</td>\n",
       "      <td>A</td>\n",
       "      <td>01-09-2007</td>\n",
       "      <td>10000000.0</td>\n",
       "      <td>/organization/matchmine</td>\n",
       "      <td>MatchMine</td>\n",
       "      <td>Media|News|Reviews and Recommendations</td>\n",
       "      <td>closed</td>\n",
       "      <td>USA</td>\n",
       "      <td>10.0</td>\n",
       "      <td>media</td>\n",
       "      <td>Entertainment</td>\n",
       "    </tr>\n",
       "  </tbody>\n",
       "</table>\n",
       "</div>"
      ],
      "text/plain": [
       "               company_permalink  \\\n",
       "3  /organization/all-def-digital   \n",
       "5       /organization/chefs-feed   \n",
       "6   /organization/huffingtonpost   \n",
       "7   /organization/huffingtonpost   \n",
       "8        /organization/matchmine   \n",
       "\n",
       "                           funding_round_permalink funding_round_type  \\\n",
       "3  /funding-round/452a2342fe720285c3b92e9bd927d9ba            venture   \n",
       "5  /funding-round/adca195749ae9ace84684723fbe75e5b            venture   \n",
       "6  /funding-round/7f05940c4d2dfecb8e50a0e5720e5065            venture   \n",
       "7  /funding-round/9241ae16e08df17ebdc064e49e23035a            venture   \n",
       "8  /funding-round/41ac526630da57ad6eb9d02431b17657            venture   \n",
       "\n",
       "  funding_round_code   funded_at  raised_amount_usd  \\\n",
       "3                  A  06-08-2014          5000000.0   \n",
       "5                  A  26-02-2015          5000000.0   \n",
       "6                  A  01-08-2006          5000000.0   \n",
       "7                  B  01-09-2007          5000000.0   \n",
       "8                  A  01-09-2007         10000000.0   \n",
       "\n",
       "                       permalink                 name  \\\n",
       "3  /organization/all-def-digital      All Def Digital   \n",
       "5       /organization/chefs-feed            ChefsFeed   \n",
       "6   /organization/huffingtonpost  The Huffington Post   \n",
       "7   /organization/huffingtonpost  The Huffington Post   \n",
       "8        /organization/matchmine            MatchMine   \n",
       "\n",
       "                          category_list_x     status country_code  \\\n",
       "3                                   Media  operating          USA   \n",
       "5     Media|Mobile|Restaurants|Technology  operating          USA   \n",
       "6                   Media|News|Publishing   acquired          USA   \n",
       "7                   Media|News|Publishing   acquired          USA   \n",
       "8  Media|News|Reviews and Recommendations     closed          USA   \n",
       "\n",
       "   raised_amount_usd_millions primary_sector    main_sector  \n",
       "3                         5.0          media  Entertainment  \n",
       "5                         5.0          media  Entertainment  \n",
       "6                         5.0          media  Entertainment  \n",
       "7                         5.0          media  Entertainment  \n",
       "8                        10.0          media  Entertainment  "
      ]
     },
     "execution_count": 65,
     "metadata": {},
     "output_type": "execute_result"
    }
   ],
   "source": [
    "# Creating Dataframe for country USA\n",
    "D1 = master_df_sector.loc[master_df_sector.country_code=='USA']\n",
    "\n",
    "D1.head()"
   ]
  },
  {
   "cell_type": "code",
   "execution_count": 66,
   "metadata": {},
   "outputs": [
    {
     "data": {
      "text/plain": [
       "(621, 14)"
      ]
     },
     "execution_count": 66,
     "metadata": {},
     "output_type": "execute_result"
    }
   ],
   "source": [
    "# Creating Dataframe for country GBR\n",
    "D2 = master_df_sector.loc[master_df_sector.country_code=='GBR']\n",
    "\n",
    "D2.shape"
   ]
  },
  {
   "cell_type": "code",
   "execution_count": 67,
   "metadata": {},
   "outputs": [
    {
     "data": {
      "text/plain": [
       "(422, 14)"
      ]
     },
     "execution_count": 67,
     "metadata": {},
     "output_type": "execute_result"
    }
   ],
   "source": [
    "# Creating Dataframe for country CAN\n",
    "D3 = master_df_sector.loc[master_df_sector.country_code=='CAN']\n",
    "\n",
    "D3.shape"
   ]
  },
  {
   "cell_type": "code",
   "execution_count": 68,
   "metadata": {},
   "outputs": [],
   "source": [
    "#Creatingmain_sector based lists\n",
    "sector_list_d1_df = D1.main_sector.value_counts().sort_values(ascending=False)\n",
    "sector_list_d2_df = D2.main_sector.value_counts().sort_values(ascending=False)\n",
    "sector_list_d3_df = D3.main_sector.value_counts().sort_values(ascending=False)\n"
   ]
  },
  {
   "cell_type": "code",
   "execution_count": 69,
   "metadata": {},
   "outputs": [
    {
     "data": {
      "text/plain": [
       "Cleantech / Semiconductors                 112\n",
       "Others                                     109\n",
       "Social, Finance, Analytics, Advertising     78\n",
       "News, Search and Messaging                  46\n",
       "Manufacturing                               31\n",
       "Entertainment                               23\n",
       "Health                                      21\n",
       "Automotive & Sports                          2\n",
       "Name: main_sector, dtype: int64"
      ]
     },
     "execution_count": 69,
     "metadata": {},
     "output_type": "execute_result"
    }
   ],
   "source": [
    "sector_list_d3_df"
   ]
  },
  {
   "cell_type": "code",
   "execution_count": 70,
   "metadata": {},
   "outputs": [],
   "source": [
    "#Create temp sector dataframe for analysis\n",
    "sector_temp_df = master_df_sector.main_sector.value_counts().sort_values(ascending=False)"
   ]
  },
  {
   "cell_type": "code",
   "execution_count": 71,
   "metadata": {},
   "outputs": [
    {
     "data": {
      "text/html": [
       "<div>\n",
       "<style scoped>\n",
       "    .dataframe tbody tr th:only-of-type {\n",
       "        vertical-align: middle;\n",
       "    }\n",
       "\n",
       "    .dataframe tbody tr th {\n",
       "        vertical-align: top;\n",
       "    }\n",
       "\n",
       "    .dataframe thead th {\n",
       "        text-align: right;\n",
       "    }\n",
       "</style>\n",
       "<table border=\"1\" class=\"dataframe\">\n",
       "  <thead>\n",
       "    <tr style=\"text-align: right;\">\n",
       "      <th></th>\n",
       "      <th>main_sector</th>\n",
       "      <th>investment_count</th>\n",
       "      <th>total_investment</th>\n",
       "    </tr>\n",
       "  </thead>\n",
       "  <tbody>\n",
       "    <tr>\n",
       "      <th>0</th>\n",
       "      <td>Others</td>\n",
       "      <td>3206</td>\n",
       "      <td>28530.769253</td>\n",
       "    </tr>\n",
       "    <tr>\n",
       "      <th>1</th>\n",
       "      <td>Social, Finance, Analytics, Advertising</td>\n",
       "      <td>2925</td>\n",
       "      <td>25552.924053</td>\n",
       "    </tr>\n",
       "    <tr>\n",
       "      <th>2</th>\n",
       "      <td>Cleantech / Semiconductors</td>\n",
       "      <td>2592</td>\n",
       "      <td>23813.308485</td>\n",
       "    </tr>\n",
       "    <tr>\n",
       "      <th>3</th>\n",
       "      <td>News, Search and Messaging</td>\n",
       "      <td>1702</td>\n",
       "      <td>15007.434776</td>\n",
       "    </tr>\n",
       "    <tr>\n",
       "      <th>4</th>\n",
       "      <td>Health</td>\n",
       "      <td>954</td>\n",
       "      <td>8594.741931</td>\n",
       "    </tr>\n",
       "    <tr>\n",
       "      <th>5</th>\n",
       "      <td>Manufacturing</td>\n",
       "      <td>872</td>\n",
       "      <td>7858.126784</td>\n",
       "    </tr>\n",
       "    <tr>\n",
       "      <th>6</th>\n",
       "      <td>Entertainment</td>\n",
       "      <td>670</td>\n",
       "      <td>5742.004737</td>\n",
       "    </tr>\n",
       "    <tr>\n",
       "      <th>7</th>\n",
       "      <td>Automotive &amp; Sports</td>\n",
       "      <td>185</td>\n",
       "      <td>1636.155926</td>\n",
       "    </tr>\n",
       "  </tbody>\n",
       "</table>\n",
       "</div>"
      ],
      "text/plain": [
       "                               main_sector  investment_count  total_investment\n",
       "0                                   Others              3206      28530.769253\n",
       "1  Social, Finance, Analytics, Advertising              2925      25552.924053\n",
       "2               Cleantech / Semiconductors              2592      23813.308485\n",
       "3               News, Search and Messaging              1702      15007.434776\n",
       "4                                   Health               954       8594.741931\n",
       "5                            Manufacturing               872       7858.126784\n",
       "6                            Entertainment               670       5742.004737\n",
       "7                      Automotive & Sports               185       1636.155926"
      ]
     },
     "execution_count": 71,
     "metadata": {},
     "output_type": "execute_result"
    }
   ],
   "source": [
    "#Adding 2 coulmns  investment count and total investment for temp summary df, it will be combination of all 3 countries\n",
    "\n",
    "temp_Summary_df = pd.DataFrame()\n",
    "temp_Summary_df['main_sector'] = sector_temp_df.index\n",
    "temp_Summary_df['investment_count'] = sector_temp_df.values\n",
    "temp_Summary_df.head(8)\n",
    "\n",
    "temp_sector_segment = master_df_sector.groupby('main_sector')['raised_amount_usd_millions'].sum()\n",
    "temp_total_df = pd.DataFrame()\n",
    "temp_total_df['main_sector'] = temp_sector_segment.index\n",
    "temp_total_df['total_investment'] = temp_sector_segment.values\n",
    "\n",
    "temp_Summary_df = pd.merge(temp_Summary_df, temp_total_df, how='inner', left_on='main_sector', right_on='main_sector')\n",
    "temp_Summary_df.total_investment = temp_Summary_df.total_investment.astype(float)\n",
    "temp_Summary_df"
   ]
  },
  {
   "cell_type": "code",
   "execution_count": 72,
   "metadata": {},
   "outputs": [
    {
     "data": {
      "text/plain": [
       "116735.46594499992"
      ]
     },
     "execution_count": 72,
     "metadata": {},
     "output_type": "execute_result"
    }
   ],
   "source": [
    "temp_Summary_df.total_investment.sum()"
   ]
  },
  {
   "cell_type": "code",
   "execution_count": 73,
   "metadata": {},
   "outputs": [
    {
     "data": {
      "text/plain": [
       "13106"
      ]
     },
     "execution_count": 73,
     "metadata": {},
     "output_type": "execute_result"
    }
   ],
   "source": [
    "temp_Summary_df.investment_count.sum()"
   ]
  },
  {
   "cell_type": "code",
   "execution_count": 74,
   "metadata": {},
   "outputs": [
    {
     "data": {
      "text/html": [
       "<div>\n",
       "<style scoped>\n",
       "    .dataframe tbody tr th:only-of-type {\n",
       "        vertical-align: middle;\n",
       "    }\n",
       "\n",
       "    .dataframe tbody tr th {\n",
       "        vertical-align: top;\n",
       "    }\n",
       "\n",
       "    .dataframe thead th {\n",
       "        text-align: right;\n",
       "    }\n",
       "</style>\n",
       "<table border=\"1\" class=\"dataframe\">\n",
       "  <thead>\n",
       "    <tr style=\"text-align: right;\">\n",
       "      <th></th>\n",
       "      <th>main_sector</th>\n",
       "      <th>investment_count</th>\n",
       "      <th>total_investment</th>\n",
       "    </tr>\n",
       "  </thead>\n",
       "  <tbody>\n",
       "    <tr>\n",
       "      <th>0</th>\n",
       "      <td>Others</td>\n",
       "      <td>2950</td>\n",
       "      <td>26321.007002</td>\n",
       "    </tr>\n",
       "    <tr>\n",
       "      <th>1</th>\n",
       "      <td>Social, Finance, Analytics, Advertising</td>\n",
       "      <td>2714</td>\n",
       "      <td>23807.376964</td>\n",
       "    </tr>\n",
       "    <tr>\n",
       "      <th>2</th>\n",
       "      <td>Cleantech / Semiconductors</td>\n",
       "      <td>2350</td>\n",
       "      <td>21633.430822</td>\n",
       "    </tr>\n",
       "    <tr>\n",
       "      <th>3</th>\n",
       "      <td>News, Search and Messaging</td>\n",
       "      <td>1583</td>\n",
       "      <td>13971.567428</td>\n",
       "    </tr>\n",
       "    <tr>\n",
       "      <th>4</th>\n",
       "      <td>Health</td>\n",
       "      <td>909</td>\n",
       "      <td>8211.859357</td>\n",
       "    </tr>\n",
       "    <tr>\n",
       "      <th>5</th>\n",
       "      <td>Manufacturing</td>\n",
       "      <td>799</td>\n",
       "      <td>7258.553378</td>\n",
       "    </tr>\n",
       "    <tr>\n",
       "      <th>6</th>\n",
       "      <td>Entertainment</td>\n",
       "      <td>591</td>\n",
       "      <td>5099.197982</td>\n",
       "    </tr>\n",
       "    <tr>\n",
       "      <th>7</th>\n",
       "      <td>Automotive &amp; Sports</td>\n",
       "      <td>167</td>\n",
       "      <td>1454.104361</td>\n",
       "    </tr>\n",
       "  </tbody>\n",
       "</table>\n",
       "</div>"
      ],
      "text/plain": [
       "                               main_sector  investment_count  total_investment\n",
       "0                                   Others              2950      26321.007002\n",
       "1  Social, Finance, Analytics, Advertising              2714      23807.376964\n",
       "2               Cleantech / Semiconductors              2350      21633.430822\n",
       "3               News, Search and Messaging              1583      13971.567428\n",
       "4                                   Health               909       8211.859357\n",
       "5                            Manufacturing               799       7258.553378\n",
       "6                            Entertainment               591       5099.197982\n",
       "7                      Automotive & Sports               167       1454.104361"
      ]
     },
     "execution_count": 74,
     "metadata": {},
     "output_type": "execute_result"
    }
   ],
   "source": [
    "#Adding 2 coulmns  investment count and total investment for D1 table\n",
    "D1_Summary_df = pd.DataFrame()\n",
    "D1_Summary_df['main_sector'] = sector_list_d1_df.index\n",
    "D1_Summary_df['investment_count'] = sector_list_d1_df.values\n",
    "D1_Summary_df.head(8)\n",
    "\n",
    "sector_segment_d1 = D1.groupby('main_sector')['raised_amount_usd_millions'].sum()\n",
    "D1_total_df = pd.DataFrame()\n",
    "D1_total_df['main_sector'] = sector_segment_d1.index\n",
    "D1_total_df['total_investment'] = sector_segment_d1.values\n",
    "\n",
    "D1_Summary_df = pd.merge(D1_Summary_df, D1_total_df, how='inner', left_on='main_sector', right_on='main_sector')\n",
    "D1_Summary_df.total_investment = D1_Summary_df.total_investment.astype(float)\n",
    "\n",
    "D1_Summary_df"
   ]
  },
  {
   "cell_type": "code",
   "execution_count": 75,
   "metadata": {},
   "outputs": [
    {
     "data": {
      "text/plain": [
       "107757.09729399992"
      ]
     },
     "execution_count": 75,
     "metadata": {},
     "output_type": "execute_result"
    }
   ],
   "source": [
    "D1_Summary_df.total_investment.sum()"
   ]
  },
  {
   "cell_type": "code",
   "execution_count": 76,
   "metadata": {},
   "outputs": [
    {
     "data": {
      "text/html": [
       "<div>\n",
       "<style scoped>\n",
       "    .dataframe tbody tr th:only-of-type {\n",
       "        vertical-align: middle;\n",
       "    }\n",
       "\n",
       "    .dataframe tbody tr th {\n",
       "        vertical-align: top;\n",
       "    }\n",
       "\n",
       "    .dataframe thead th {\n",
       "        text-align: right;\n",
       "    }\n",
       "</style>\n",
       "<table border=\"1\" class=\"dataframe\">\n",
       "  <thead>\n",
       "    <tr style=\"text-align: right;\">\n",
       "      <th></th>\n",
       "      <th>main_sector</th>\n",
       "      <th>investment_count</th>\n",
       "      <th>total_investment</th>\n",
       "    </tr>\n",
       "  </thead>\n",
       "  <tbody>\n",
       "    <tr>\n",
       "      <th>0</th>\n",
       "      <td>Others</td>\n",
       "      <td>147</td>\n",
       "      <td>1283.624289</td>\n",
       "    </tr>\n",
       "    <tr>\n",
       "      <th>1</th>\n",
       "      <td>Social, Finance, Analytics, Advertising</td>\n",
       "      <td>133</td>\n",
       "      <td>1089.404014</td>\n",
       "    </tr>\n",
       "    <tr>\n",
       "      <th>2</th>\n",
       "      <td>Cleantech / Semiconductors</td>\n",
       "      <td>130</td>\n",
       "      <td>1163.990056</td>\n",
       "    </tr>\n",
       "    <tr>\n",
       "      <th>3</th>\n",
       "      <td>News, Search and Messaging</td>\n",
       "      <td>73</td>\n",
       "      <td>615.746235</td>\n",
       "    </tr>\n",
       "    <tr>\n",
       "      <th>4</th>\n",
       "      <td>Entertainment</td>\n",
       "      <td>56</td>\n",
       "      <td>482.784687</td>\n",
       "    </tr>\n",
       "    <tr>\n",
       "      <th>5</th>\n",
       "      <td>Manufacturing</td>\n",
       "      <td>42</td>\n",
       "      <td>361.940335</td>\n",
       "    </tr>\n",
       "    <tr>\n",
       "      <th>6</th>\n",
       "      <td>Health</td>\n",
       "      <td>24</td>\n",
       "      <td>214.537510</td>\n",
       "    </tr>\n",
       "    <tr>\n",
       "      <th>7</th>\n",
       "      <td>Automotive &amp; Sports</td>\n",
       "      <td>16</td>\n",
       "      <td>167.051565</td>\n",
       "    </tr>\n",
       "  </tbody>\n",
       "</table>\n",
       "</div>"
      ],
      "text/plain": [
       "                               main_sector  investment_count  total_investment\n",
       "0                                   Others               147       1283.624289\n",
       "1  Social, Finance, Analytics, Advertising               133       1089.404014\n",
       "2               Cleantech / Semiconductors               130       1163.990056\n",
       "3               News, Search and Messaging                73        615.746235\n",
       "4                            Entertainment                56        482.784687\n",
       "5                            Manufacturing                42        361.940335\n",
       "6                                   Health                24        214.537510\n",
       "7                      Automotive & Sports                16        167.051565"
      ]
     },
     "execution_count": 76,
     "metadata": {},
     "output_type": "execute_result"
    }
   ],
   "source": [
    "#Adding 2 coulmns  investment count and total investment for D2 table\n",
    "D2_Summary_df = pd.DataFrame()\n",
    "D2_Summary_df['main_sector'] = sector_list_d2_df.index\n",
    "D2_Summary_df['investment_count'] = sector_list_d2_df.values\n",
    "D2_Summary_df.head(8)\n",
    "\n",
    "sector_segment_d2 = D2.groupby('main_sector')['raised_amount_usd_millions'].sum()\n",
    "D2_total_df = pd.DataFrame()\n",
    "D2_total_df['main_sector'] = sector_segment_d2.index\n",
    "D2_total_df['total_investment'] = sector_segment_d2.values\n",
    "\n",
    "D2_Summary_df = pd.merge(D2_Summary_df, D2_total_df, how='inner', left_on='main_sector', right_on='main_sector')\n",
    "D2_Summary_df.total_investment = D2_Summary_df.total_investment.astype(float)\n",
    "\n",
    "D2_Summary_df"
   ]
  },
  {
   "cell_type": "code",
   "execution_count": 77,
   "metadata": {},
   "outputs": [
    {
     "data": {
      "text/plain": [
       "5379.078691000001"
      ]
     },
     "execution_count": 77,
     "metadata": {},
     "output_type": "execute_result"
    }
   ],
   "source": [
    "D2_Summary_df.total_investment.sum()"
   ]
  },
  {
   "cell_type": "code",
   "execution_count": 78,
   "metadata": {
    "scrolled": true
   },
   "outputs": [
    {
     "data": {
      "text/html": [
       "<div>\n",
       "<style scoped>\n",
       "    .dataframe tbody tr th:only-of-type {\n",
       "        vertical-align: middle;\n",
       "    }\n",
       "\n",
       "    .dataframe tbody tr th {\n",
       "        vertical-align: top;\n",
       "    }\n",
       "\n",
       "    .dataframe thead th {\n",
       "        text-align: right;\n",
       "    }\n",
       "</style>\n",
       "<table border=\"1\" class=\"dataframe\">\n",
       "  <thead>\n",
       "    <tr style=\"text-align: right;\">\n",
       "      <th></th>\n",
       "      <th>main_sector</th>\n",
       "      <th>investment_count</th>\n",
       "      <th>total_investment</th>\n",
       "    </tr>\n",
       "  </thead>\n",
       "  <tbody>\n",
       "    <tr>\n",
       "      <th>0</th>\n",
       "      <td>Cleantech / Semiconductors</td>\n",
       "      <td>112</td>\n",
       "      <td>1015.887607</td>\n",
       "    </tr>\n",
       "    <tr>\n",
       "      <th>1</th>\n",
       "      <td>Others</td>\n",
       "      <td>109</td>\n",
       "      <td>926.137962</td>\n",
       "    </tr>\n",
       "    <tr>\n",
       "      <th>2</th>\n",
       "      <td>Social, Finance, Analytics, Advertising</td>\n",
       "      <td>78</td>\n",
       "      <td>656.143075</td>\n",
       "    </tr>\n",
       "    <tr>\n",
       "      <th>3</th>\n",
       "      <td>News, Search and Messaging</td>\n",
       "      <td>46</td>\n",
       "      <td>420.121113</td>\n",
       "    </tr>\n",
       "    <tr>\n",
       "      <th>4</th>\n",
       "      <td>Manufacturing</td>\n",
       "      <td>31</td>\n",
       "      <td>237.633071</td>\n",
       "    </tr>\n",
       "    <tr>\n",
       "      <th>5</th>\n",
       "      <td>Entertainment</td>\n",
       "      <td>23</td>\n",
       "      <td>160.022068</td>\n",
       "    </tr>\n",
       "    <tr>\n",
       "      <th>6</th>\n",
       "      <td>Health</td>\n",
       "      <td>21</td>\n",
       "      <td>168.345064</td>\n",
       "    </tr>\n",
       "    <tr>\n",
       "      <th>7</th>\n",
       "      <td>Automotive &amp; Sports</td>\n",
       "      <td>2</td>\n",
       "      <td>15.000000</td>\n",
       "    </tr>\n",
       "  </tbody>\n",
       "</table>\n",
       "</div>"
      ],
      "text/plain": [
       "                               main_sector  investment_count  total_investment\n",
       "0               Cleantech / Semiconductors               112       1015.887607\n",
       "1                                   Others               109        926.137962\n",
       "2  Social, Finance, Analytics, Advertising                78        656.143075\n",
       "3               News, Search and Messaging                46        420.121113\n",
       "4                            Manufacturing                31        237.633071\n",
       "5                            Entertainment                23        160.022068\n",
       "6                                   Health                21        168.345064\n",
       "7                      Automotive & Sports                 2         15.000000"
      ]
     },
     "execution_count": 78,
     "metadata": {},
     "output_type": "execute_result"
    }
   ],
   "source": [
    "#Adding 2 coulmns  investment count and total investment for D3 table \n",
    "D3_Summary_df = pd.DataFrame()\n",
    "D3_Summary_df['main_sector'] = sector_list_d3_df.index\n",
    "D3_Summary_df['investment_count'] = sector_list_d3_df.values\n",
    "D3_Summary_df.head(8)\n",
    "\n",
    "sector_segment_d3 = D3.groupby('main_sector')['raised_amount_usd_millions'].sum()\n",
    "D3_total_df = pd.DataFrame()\n",
    "D3_total_df['main_sector'] = sector_segment_d3.index\n",
    "D3_total_df['total_investment'] = sector_segment_d3.values\n",
    "\n",
    "D3_Summary_df = pd.merge(D3_Summary_df, D3_total_df, how='inner', left_on='main_sector', right_on='main_sector')\n",
    "D3_Summary_df.total_investment = D3_Summary_df.total_investment.astype(float)\n",
    "\n",
    "D3_Summary_df"
   ]
  },
  {
   "cell_type": "code",
   "execution_count": null,
   "metadata": {},
   "outputs": [],
   "source": []
  },
  {
   "cell_type": "code",
   "execution_count": 79,
   "metadata": {},
   "outputs": [
    {
     "data": {
      "text/plain": [
       "12063"
      ]
     },
     "execution_count": 79,
     "metadata": {},
     "output_type": "execute_result"
    }
   ],
   "source": [
    "# D1 sum of investment count\n",
    "D1_Summary_df.investment_count.sum()"
   ]
  },
  {
   "cell_type": "code",
   "execution_count": 80,
   "metadata": {},
   "outputs": [
    {
     "data": {
      "text/plain": [
       "107757.09729399992"
      ]
     },
     "execution_count": 80,
     "metadata": {},
     "output_type": "execute_result"
    }
   ],
   "source": [
    "# D1 sum of total investment \n",
    "D1_Summary_df.total_investment.sum()"
   ]
  },
  {
   "cell_type": "code",
   "execution_count": 81,
   "metadata": {},
   "outputs": [
    {
     "data": {
      "text/plain": [
       "621"
      ]
     },
     "execution_count": 81,
     "metadata": {},
     "output_type": "execute_result"
    }
   ],
   "source": [
    "# D2 sum of investment count\n",
    "D2_Summary_df.investment_count.sum()"
   ]
  },
  {
   "cell_type": "code",
   "execution_count": 82,
   "metadata": {},
   "outputs": [
    {
     "data": {
      "text/plain": [
       "5379.078691000001"
      ]
     },
     "execution_count": 82,
     "metadata": {},
     "output_type": "execute_result"
    }
   ],
   "source": [
    "# D1 sum of total investment \n",
    "D2_Summary_df.total_investment.sum()"
   ]
  },
  {
   "cell_type": "code",
   "execution_count": null,
   "metadata": {},
   "outputs": [],
   "source": []
  },
  {
   "cell_type": "code",
   "execution_count": 83,
   "metadata": {},
   "outputs": [
    {
     "data": {
      "text/plain": [
       "422"
      ]
     },
     "execution_count": 83,
     "metadata": {},
     "output_type": "execute_result"
    }
   ],
   "source": [
    "# D3 sum of investment count\n",
    "D3_Summary_df.investment_count.sum()"
   ]
  },
  {
   "cell_type": "code",
   "execution_count": 84,
   "metadata": {},
   "outputs": [
    {
     "data": {
      "text/plain": [
       "3599.28996"
      ]
     },
     "execution_count": 84,
     "metadata": {},
     "output_type": "execute_result"
    }
   ],
   "source": [
    "# D1 sum of total investment \n",
    "D3_Summary_df.total_investment.sum()"
   ]
  },
  {
   "cell_type": "code",
   "execution_count": 85,
   "metadata": {},
   "outputs": [],
   "source": [
    "# creating columns for master data with investment count and \n",
    "master_df_sector = pd.merge(left=master_df_sector,right=temp_Summary_df, how='inner',left_on='main_sector', right_on='main_sector')\n",
    "\n"
   ]
  },
  {
   "cell_type": "code",
   "execution_count": null,
   "metadata": {},
   "outputs": [],
   "source": []
  },
  {
   "cell_type": "code",
   "execution_count": 86,
   "metadata": {},
   "outputs": [
    {
     "data": {
      "text/html": [
       "<div>\n",
       "<style scoped>\n",
       "    .dataframe tbody tr th:only-of-type {\n",
       "        vertical-align: middle;\n",
       "    }\n",
       "\n",
       "    .dataframe tbody tr th {\n",
       "        vertical-align: top;\n",
       "    }\n",
       "\n",
       "    .dataframe thead th {\n",
       "        text-align: right;\n",
       "    }\n",
       "</style>\n",
       "<table border=\"1\" class=\"dataframe\">\n",
       "  <thead>\n",
       "    <tr style=\"text-align: right;\">\n",
       "      <th></th>\n",
       "      <th>company_permalink</th>\n",
       "      <th>funding_round_permalink</th>\n",
       "      <th>funding_round_type</th>\n",
       "      <th>funding_round_code</th>\n",
       "      <th>funded_at</th>\n",
       "      <th>raised_amount_usd</th>\n",
       "      <th>permalink</th>\n",
       "      <th>name</th>\n",
       "      <th>category_list_x</th>\n",
       "      <th>status</th>\n",
       "      <th>country_code</th>\n",
       "      <th>raised_amount_usd_millions</th>\n",
       "      <th>primary_sector</th>\n",
       "      <th>main_sector</th>\n",
       "      <th>investment_count</th>\n",
       "      <th>total_investment</th>\n",
       "    </tr>\n",
       "  </thead>\n",
       "  <tbody>\n",
       "    <tr>\n",
       "      <th>0</th>\n",
       "      <td>/organization/90min</td>\n",
       "      <td>/funding-round/21a2cbf6f2fb2a1c2a61e04bf930dfe6</td>\n",
       "      <td>venture</td>\n",
       "      <td>NaN</td>\n",
       "      <td>06-10-2015</td>\n",
       "      <td>15000000.0</td>\n",
       "      <td>/organization/90min</td>\n",
       "      <td>90min</td>\n",
       "      <td>Media|News|Publishing|Soccer|Sports</td>\n",
       "      <td>operating</td>\n",
       "      <td>GBR</td>\n",
       "      <td>15.00</td>\n",
       "      <td>media</td>\n",
       "      <td>Entertainment</td>\n",
       "      <td>670</td>\n",
       "      <td>5742.004737</td>\n",
       "    </tr>\n",
       "    <tr>\n",
       "      <th>1</th>\n",
       "      <td>/organization/90min</td>\n",
       "      <td>/funding-round/bd626ed022f5c66574b1afe234f3c90d</td>\n",
       "      <td>venture</td>\n",
       "      <td>NaN</td>\n",
       "      <td>07-05-2013</td>\n",
       "      <td>5800000.0</td>\n",
       "      <td>/organization/90min</td>\n",
       "      <td>90min</td>\n",
       "      <td>Media|News|Publishing|Soccer|Sports</td>\n",
       "      <td>operating</td>\n",
       "      <td>GBR</td>\n",
       "      <td>5.80</td>\n",
       "      <td>media</td>\n",
       "      <td>Entertainment</td>\n",
       "      <td>670</td>\n",
       "      <td>5742.004737</td>\n",
       "    </tr>\n",
       "    <tr>\n",
       "      <th>2</th>\n",
       "      <td>/organization/all-def-digital</td>\n",
       "      <td>/funding-round/452a2342fe720285c3b92e9bd927d9ba</td>\n",
       "      <td>venture</td>\n",
       "      <td>A</td>\n",
       "      <td>06-08-2014</td>\n",
       "      <td>5000000.0</td>\n",
       "      <td>/organization/all-def-digital</td>\n",
       "      <td>All Def Digital</td>\n",
       "      <td>Media</td>\n",
       "      <td>operating</td>\n",
       "      <td>USA</td>\n",
       "      <td>5.00</td>\n",
       "      <td>media</td>\n",
       "      <td>Entertainment</td>\n",
       "      <td>670</td>\n",
       "      <td>5742.004737</td>\n",
       "    </tr>\n",
       "    <tr>\n",
       "      <th>3</th>\n",
       "      <td>/organization/chefs-feed</td>\n",
       "      <td>/funding-round/adca195749ae9ace84684723fbe75e5b</td>\n",
       "      <td>venture</td>\n",
       "      <td>A</td>\n",
       "      <td>26-02-2015</td>\n",
       "      <td>5000000.0</td>\n",
       "      <td>/organization/chefs-feed</td>\n",
       "      <td>ChefsFeed</td>\n",
       "      <td>Media|Mobile|Restaurants|Technology</td>\n",
       "      <td>operating</td>\n",
       "      <td>USA</td>\n",
       "      <td>5.00</td>\n",
       "      <td>media</td>\n",
       "      <td>Entertainment</td>\n",
       "      <td>670</td>\n",
       "      <td>5742.004737</td>\n",
       "    </tr>\n",
       "    <tr>\n",
       "      <th>4</th>\n",
       "      <td>/organization/huffingtonpost</td>\n",
       "      <td>/funding-round/7f05940c4d2dfecb8e50a0e5720e5065</td>\n",
       "      <td>venture</td>\n",
       "      <td>A</td>\n",
       "      <td>01-08-2006</td>\n",
       "      <td>5000000.0</td>\n",
       "      <td>/organization/huffingtonpost</td>\n",
       "      <td>The Huffington Post</td>\n",
       "      <td>Media|News|Publishing</td>\n",
       "      <td>acquired</td>\n",
       "      <td>USA</td>\n",
       "      <td>5.00</td>\n",
       "      <td>media</td>\n",
       "      <td>Entertainment</td>\n",
       "      <td>670</td>\n",
       "      <td>5742.004737</td>\n",
       "    </tr>\n",
       "    <tr>\n",
       "      <th>...</th>\n",
       "      <td>...</td>\n",
       "      <td>...</td>\n",
       "      <td>...</td>\n",
       "      <td>...</td>\n",
       "      <td>...</td>\n",
       "      <td>...</td>\n",
       "      <td>...</td>\n",
       "      <td>...</td>\n",
       "      <td>...</td>\n",
       "      <td>...</td>\n",
       "      <td>...</td>\n",
       "      <td>...</td>\n",
       "      <td>...</td>\n",
       "      <td>...</td>\n",
       "      <td>...</td>\n",
       "      <td>...</td>\n",
       "    </tr>\n",
       "    <tr>\n",
       "      <th>13101</th>\n",
       "      <td>/organization/nistevo</td>\n",
       "      <td>/funding-round/e72bea84ce0f91af98d0ebf48941cfdf</td>\n",
       "      <td>venture</td>\n",
       "      <td>C</td>\n",
       "      <td>24-02-2003</td>\n",
       "      <td>8000000.0</td>\n",
       "      <td>/organization/nistevo</td>\n",
       "      <td>Nistevo</td>\n",
       "      <td>Transportation</td>\n",
       "      <td>acquired</td>\n",
       "      <td>USA</td>\n",
       "      <td>8.00</td>\n",
       "      <td>transportation</td>\n",
       "      <td>Automotive &amp; Sports</td>\n",
       "      <td>185</td>\n",
       "      <td>1636.155926</td>\n",
       "    </tr>\n",
       "    <tr>\n",
       "      <th>13102</th>\n",
       "      <td>/organization/surf-air</td>\n",
       "      <td>/funding-round/f78d4337d3daa258459fa0b875bb8435</td>\n",
       "      <td>venture</td>\n",
       "      <td>B</td>\n",
       "      <td>03-06-2013</td>\n",
       "      <td>7000000.0</td>\n",
       "      <td>/organization/surf-air</td>\n",
       "      <td>Surf Air</td>\n",
       "      <td>Transportation|Travel</td>\n",
       "      <td>operating</td>\n",
       "      <td>USA</td>\n",
       "      <td>7.00</td>\n",
       "      <td>transportation</td>\n",
       "      <td>Automotive &amp; Sports</td>\n",
       "      <td>185</td>\n",
       "      <td>1636.155926</td>\n",
       "    </tr>\n",
       "    <tr>\n",
       "      <th>13103</th>\n",
       "      <td>/organization/surf-air</td>\n",
       "      <td>/funding-round/35662852d0984319f7551e812f95997c</td>\n",
       "      <td>venture</td>\n",
       "      <td>B</td>\n",
       "      <td>07-08-2014</td>\n",
       "      <td>8000000.0</td>\n",
       "      <td>/organization/surf-air</td>\n",
       "      <td>Surf Air</td>\n",
       "      <td>Transportation|Travel</td>\n",
       "      <td>operating</td>\n",
       "      <td>USA</td>\n",
       "      <td>8.00</td>\n",
       "      <td>transportation</td>\n",
       "      <td>Automotive &amp; Sports</td>\n",
       "      <td>185</td>\n",
       "      <td>1636.155926</td>\n",
       "    </tr>\n",
       "    <tr>\n",
       "      <th>13104</th>\n",
       "      <td>/organization/grabcad</td>\n",
       "      <td>/funding-round/115723dfe10abdd2d9d4954b06f66498</td>\n",
       "      <td>venture</td>\n",
       "      <td>B</td>\n",
       "      <td>16-10-2012</td>\n",
       "      <td>8150000.0</td>\n",
       "      <td>/organization/grabcad</td>\n",
       "      <td>GrabCAD</td>\n",
       "      <td>CAD|Curated Web|Finance|Manufacturing</td>\n",
       "      <td>acquired</td>\n",
       "      <td>USA</td>\n",
       "      <td>8.15</td>\n",
       "      <td>cad</td>\n",
       "      <td>Automotive &amp; Sports</td>\n",
       "      <td>185</td>\n",
       "      <td>1636.155926</td>\n",
       "    </tr>\n",
       "    <tr>\n",
       "      <th>13105</th>\n",
       "      <td>/organization/onshape-inc-</td>\n",
       "      <td>/funding-round/2729871237e309886b3c722054018ff9</td>\n",
       "      <td>venture</td>\n",
       "      <td>A</td>\n",
       "      <td>01-01-2013</td>\n",
       "      <td>9000000.0</td>\n",
       "      <td>/organization/onshape-inc-</td>\n",
       "      <td>Onshape</td>\n",
       "      <td>CAD|Mobile|Software</td>\n",
       "      <td>operating</td>\n",
       "      <td>USA</td>\n",
       "      <td>9.00</td>\n",
       "      <td>cad</td>\n",
       "      <td>Automotive &amp; Sports</td>\n",
       "      <td>185</td>\n",
       "      <td>1636.155926</td>\n",
       "    </tr>\n",
       "  </tbody>\n",
       "</table>\n",
       "<p>13106 rows × 16 columns</p>\n",
       "</div>"
      ],
      "text/plain": [
       "                   company_permalink  \\\n",
       "0                /organization/90min   \n",
       "1                /organization/90min   \n",
       "2      /organization/all-def-digital   \n",
       "3           /organization/chefs-feed   \n",
       "4       /organization/huffingtonpost   \n",
       "...                              ...   \n",
       "13101          /organization/nistevo   \n",
       "13102         /organization/surf-air   \n",
       "13103         /organization/surf-air   \n",
       "13104          /organization/grabcad   \n",
       "13105     /organization/onshape-inc-   \n",
       "\n",
       "                               funding_round_permalink funding_round_type  \\\n",
       "0      /funding-round/21a2cbf6f2fb2a1c2a61e04bf930dfe6            venture   \n",
       "1      /funding-round/bd626ed022f5c66574b1afe234f3c90d            venture   \n",
       "2      /funding-round/452a2342fe720285c3b92e9bd927d9ba            venture   \n",
       "3      /funding-round/adca195749ae9ace84684723fbe75e5b            venture   \n",
       "4      /funding-round/7f05940c4d2dfecb8e50a0e5720e5065            venture   \n",
       "...                                                ...                ...   \n",
       "13101  /funding-round/e72bea84ce0f91af98d0ebf48941cfdf            venture   \n",
       "13102  /funding-round/f78d4337d3daa258459fa0b875bb8435            venture   \n",
       "13103  /funding-round/35662852d0984319f7551e812f95997c            venture   \n",
       "13104  /funding-round/115723dfe10abdd2d9d4954b06f66498            venture   \n",
       "13105  /funding-round/2729871237e309886b3c722054018ff9            venture   \n",
       "\n",
       "      funding_round_code   funded_at  raised_amount_usd  \\\n",
       "0                    NaN  06-10-2015         15000000.0   \n",
       "1                    NaN  07-05-2013          5800000.0   \n",
       "2                      A  06-08-2014          5000000.0   \n",
       "3                      A  26-02-2015          5000000.0   \n",
       "4                      A  01-08-2006          5000000.0   \n",
       "...                  ...         ...                ...   \n",
       "13101                  C  24-02-2003          8000000.0   \n",
       "13102                  B  03-06-2013          7000000.0   \n",
       "13103                  B  07-08-2014          8000000.0   \n",
       "13104                  B  16-10-2012          8150000.0   \n",
       "13105                  A  01-01-2013          9000000.0   \n",
       "\n",
       "                           permalink                 name  \\\n",
       "0                /organization/90min                90min   \n",
       "1                /organization/90min                90min   \n",
       "2      /organization/all-def-digital      All Def Digital   \n",
       "3           /organization/chefs-feed            ChefsFeed   \n",
       "4       /organization/huffingtonpost  The Huffington Post   \n",
       "...                              ...                  ...   \n",
       "13101          /organization/nistevo              Nistevo   \n",
       "13102         /organization/surf-air             Surf Air   \n",
       "13103         /organization/surf-air             Surf Air   \n",
       "13104          /organization/grabcad              GrabCAD   \n",
       "13105     /organization/onshape-inc-              Onshape   \n",
       "\n",
       "                             category_list_x     status country_code  \\\n",
       "0        Media|News|Publishing|Soccer|Sports  operating          GBR   \n",
       "1        Media|News|Publishing|Soccer|Sports  operating          GBR   \n",
       "2                                      Media  operating          USA   \n",
       "3        Media|Mobile|Restaurants|Technology  operating          USA   \n",
       "4                      Media|News|Publishing   acquired          USA   \n",
       "...                                      ...        ...          ...   \n",
       "13101                         Transportation   acquired          USA   \n",
       "13102                  Transportation|Travel  operating          USA   \n",
       "13103                  Transportation|Travel  operating          USA   \n",
       "13104  CAD|Curated Web|Finance|Manufacturing   acquired          USA   \n",
       "13105                    CAD|Mobile|Software  operating          USA   \n",
       "\n",
       "       raised_amount_usd_millions  primary_sector          main_sector  \\\n",
       "0                           15.00           media        Entertainment   \n",
       "1                            5.80           media        Entertainment   \n",
       "2                            5.00           media        Entertainment   \n",
       "3                            5.00           media        Entertainment   \n",
       "4                            5.00           media        Entertainment   \n",
       "...                           ...             ...                  ...   \n",
       "13101                        8.00  transportation  Automotive & Sports   \n",
       "13102                        7.00  transportation  Automotive & Sports   \n",
       "13103                        8.00  transportation  Automotive & Sports   \n",
       "13104                        8.15             cad  Automotive & Sports   \n",
       "13105                        9.00             cad  Automotive & Sports   \n",
       "\n",
       "       investment_count  total_investment  \n",
       "0                   670       5742.004737  \n",
       "1                   670       5742.004737  \n",
       "2                   670       5742.004737  \n",
       "3                   670       5742.004737  \n",
       "4                   670       5742.004737  \n",
       "...                 ...               ...  \n",
       "13101               185       1636.155926  \n",
       "13102               185       1636.155926  \n",
       "13103               185       1636.155926  \n",
       "13104               185       1636.155926  \n",
       "13105               185       1636.155926  \n",
       "\n",
       "[13106 rows x 16 columns]"
      ]
     },
     "execution_count": 86,
     "metadata": {},
     "output_type": "execute_result"
    }
   ],
   "source": [
    "master_df_sector"
   ]
  },
  {
   "cell_type": "markdown",
   "metadata": {},
   "source": [
    "## Company Names of the top sector funded "
   ]
  },
  {
   "cell_type": "code",
   "execution_count": 87,
   "metadata": {},
   "outputs": [
    {
     "data": {
      "text/plain": [
       "name\n",
       "Virtustream            64.300000\n",
       "Capella Photonics      54.968051\n",
       "AirTight Networks      54.201907\n",
       "deCarta                52.100000\n",
       "Black Duck Software    51.000000\n",
       "                         ...    \n",
       "Campus Explorer         5.000000\n",
       "Campus Quad             5.000000\n",
       "Oculan                  5.000000\n",
       "NuView Systems          5.000000\n",
       "Dolls Kill              5.000000\n",
       "Name: raised_amount_usd_millions, Length: 2049, dtype: float64"
      ]
     },
     "execution_count": 87,
     "metadata": {},
     "output_type": "execute_result"
    }
   ],
   "source": [
    "D1[D1.main_sector==\"Others\"].groupby('name')['raised_amount_usd_millions'].sum().sort_values(ascending=False)\n"
   ]
  },
  {
   "cell_type": "code",
   "execution_count": 88,
   "metadata": {},
   "outputs": [
    {
     "data": {
      "text/plain": [
       "name\n",
       "Electric Cloud             37.000000\n",
       "SenSage                    36.250000\n",
       "Enigmatec                  32.500000\n",
       "SilverRail Technologies    29.000000\n",
       "OpenCloud                  27.972766\n",
       "                             ...    \n",
       "Bacula Systems              5.000000\n",
       "Vector Watch                5.000000\n",
       "PhotoBox                    5.000000\n",
       "The Filter                  5.000000\n",
       "BullGuard                   5.000000\n",
       "Name: raised_amount_usd_millions, Length: 120, dtype: float64"
      ]
     },
     "execution_count": 88,
     "metadata": {},
     "output_type": "execute_result"
    }
   ],
   "source": [
    "D2[D2.main_sector==\"Others\"].groupby('name')['raised_amount_usd_millions'].sum().sort_values(ascending=False)"
   ]
  },
  {
   "cell_type": "code",
   "execution_count": 89,
   "metadata": {},
   "outputs": [
    {
     "data": {
      "text/plain": [
       "name\n",
       "Fresco Microchip            48.000000\n",
       "Ostara                      43.152682\n",
       "Diablo Technologies         35.500000\n",
       "Zymeworks                   34.100000\n",
       "enGene                      31.150000\n",
       "                              ...    \n",
       "CRAiLAR                      5.090068\n",
       "CelluFuel                    5.000000\n",
       "MedGenesis Therapeutix       5.000000\n",
       "Smart Energy Instruments     5.000000\n",
       "UTILICASE                    5.000000\n",
       "Name: raised_amount_usd_millions, Length: 80, dtype: float64"
      ]
     },
     "execution_count": 89,
     "metadata": {},
     "output_type": "execute_result"
    }
   ],
   "source": [
    "D3[D3.main_sector==\"Cleantech / Semiconductors\"].groupby('name')['raised_amount_usd_millions'].sum().sort_values(ascending=False)"
   ]
  },
  {
   "cell_type": "code",
   "execution_count": 90,
   "metadata": {},
   "outputs": [
    {
     "data": {
      "text/plain": [
       "name\n",
       "SST Inc. (Formerly ShotSpotter)    67.933006\n",
       "Demandbase                         63.000000\n",
       "Intacct                            61.800000\n",
       "NetBase Solutions                  60.600000\n",
       "Lotame                             59.700000\n",
       "                                     ...    \n",
       "Jellyvision                         5.000000\n",
       "Yerdle                              5.000000\n",
       "EquityMetrix                        5.000000\n",
       "Apester                             5.000000\n",
       "WibiData                            5.000000\n",
       "Name: raised_amount_usd_millions, Length: 1847, dtype: float64"
      ]
     },
     "execution_count": 90,
     "metadata": {},
     "output_type": "execute_result"
    }
   ],
   "source": [
    "D1[D1.main_sector==\"Social, Finance, Analytics, Advertising\"].groupby('name')['raised_amount_usd_millions'].sum().sort_values(ascending=False)"
   ]
  },
  {
   "cell_type": "code",
   "execution_count": 91,
   "metadata": {},
   "outputs": [
    {
     "data": {
      "text/plain": [
       "name\n",
       "Celltick Technologies    37.500000\n",
       "myThings                 34.000000\n",
       "Zopa                     32.900000\n",
       "VisualDNA                28.550000\n",
       "MarketInvoice            25.553007\n",
       "                           ...    \n",
       "Rangespan                 5.000000\n",
       "DueDil                    5.000000\n",
       "Tamoco                    5.000000\n",
       "MOO.COM                   5.000000\n",
       "The Fizzback Group        5.000000\n",
       "Name: raised_amount_usd_millions, Length: 104, dtype: float64"
      ]
     },
     "execution_count": 91,
     "metadata": {},
     "output_type": "execute_result"
    }
   ],
   "source": [
    "D2[D2.main_sector==\"Social, Finance, Analytics, Advertising\"].groupby('name')['raised_amount_usd_millions'].sum().sort_values(ascending=False)"
   ]
  },
  {
   "cell_type": "code",
   "execution_count": 92,
   "metadata": {},
   "outputs": [
    {
     "data": {
      "text/plain": [
       "name\n",
       "QuickPlay Media         38.700000\n",
       "NewStep Networks        31.477853\n",
       "Strangeloop Networks    21.500000\n",
       "Morega Systems          20.000000\n",
       "LxDATA                  19.310000\n",
       "                          ...    \n",
       "Bistro Corp              5.000000\n",
       "Hatsize                  5.000000\n",
       "Tungle.me                5.000000\n",
       "Aimetis                  5.000000\n",
       "TeamBuy                  5.000000\n",
       "Name: raised_amount_usd_millions, Length: 88, dtype: float64"
      ]
     },
     "execution_count": 92,
     "metadata": {},
     "output_type": "execute_result"
    }
   ],
   "source": [
    "D3[D3.main_sector==\"Others\"].groupby('name')['raised_amount_usd_millions'].sum().sort_values(ascending=False)"
   ]
  },
  {
   "cell_type": "code",
   "execution_count": 93,
   "metadata": {},
   "outputs": [
    {
     "data": {
      "text/plain": [
       "name\n",
       "Biodesix                     75.300000\n",
       "Tigo Energy                  68.739496\n",
       "ForSight Labs                61.300001\n",
       "Cambrios Technologies        56.891022\n",
       "Rheonix                      56.124758\n",
       "                               ...    \n",
       "Allotrope Partners            5.000000\n",
       "Kaai                          5.000000\n",
       "Nexus Biosystems              5.000000\n",
       "Filament                      5.000000\n",
       "ChartWise Medical Systems     5.000000\n",
       "Name: raised_amount_usd_millions, Length: 1615, dtype: float64"
      ]
     },
     "execution_count": 93,
     "metadata": {},
     "output_type": "execute_result"
    }
   ],
   "source": [
    "D1[D1.main_sector==\"Cleantech / Semiconductors\"].groupby('name')['raised_amount_usd_millions'].sum().sort_values(ascending=False)"
   ]
  },
  {
   "cell_type": "code",
   "execution_count": 94,
   "metadata": {},
   "outputs": [
    {
     "data": {
      "text/plain": [
       "name\n",
       "EUSA Pharma                     35.600000\n",
       "Horizon Discovery               31.353719\n",
       "F-star Biotechnology Limited    29.132906\n",
       "Elixent                         25.000000\n",
       "Takeda Cambridge                22.340000\n",
       "                                  ...    \n",
       "Lamellar Biomedical              5.301059\n",
       "MMIC Solutions                   5.250000\n",
       "Flowline                         5.104587\n",
       "Ignis Energy                     5.014644\n",
       "Exco InTouch                     5.000000\n",
       "Name: raised_amount_usd_millions, Length: 107, dtype: float64"
      ]
     },
     "execution_count": 94,
     "metadata": {},
     "output_type": "execute_result"
    }
   ],
   "source": [
    "D2[D2.main_sector==\"Cleantech / Semiconductors\"].groupby('name')['raised_amount_usd_millions'].sum().sort_values(ascending=False)"
   ]
  },
  {
   "cell_type": "code",
   "execution_count": 95,
   "metadata": {},
   "outputs": [
    {
     "data": {
      "text/plain": [
       "name\n",
       "Fresco Microchip            48.000000\n",
       "Ostara                      43.152682\n",
       "Diablo Technologies         35.500000\n",
       "Zymeworks                   34.100000\n",
       "enGene                      31.150000\n",
       "                              ...    \n",
       "CRAiLAR                      5.090068\n",
       "CelluFuel                    5.000000\n",
       "MedGenesis Therapeutix       5.000000\n",
       "Smart Energy Instruments     5.000000\n",
       "UTILICASE                    5.000000\n",
       "Name: raised_amount_usd_millions, Length: 80, dtype: float64"
      ]
     },
     "execution_count": 95,
     "metadata": {},
     "output_type": "execute_result"
    }
   ],
   "source": [
    "D3[D3.main_sector==\"Cleantech / Semiconductors\"].groupby('name')['raised_amount_usd_millions'].sum().sort_values(ascending=False)"
   ]
  },
  {
   "cell_type": "markdown",
   "metadata": {},
   "source": [
    "## Checkpoint 6: Plots"
   ]
  },
  {
   "cell_type": "code",
   "execution_count": 96,
   "metadata": {},
   "outputs": [],
   "source": [
    "fund_sum = master_df_sorted[(master_df_sorted.funding_round_type=='venture')|(master_df_sorted.funding_round_type=='angel')|(master_df_sorted.funding_round_type=='seed')|(master_df_sorted.funding_round_type=='private_equity')].groupby('funding_round_type')['raised_amount_usd_millions'].agg(['sum','mean']).reset_index()\n",
    "\n",
    "fund_sum = fund_sum.rename(columns={'sum':'sum_invested','mean':'average_invested'})"
   ]
  },
  {
   "cell_type": "code",
   "execution_count": 97,
   "metadata": {},
   "outputs": [],
   "source": [
    "fund_sum['fraction'] = round(100*(fund_sum.sum_invested)/(fund_sum.sum_invested.sum()),2)\n",
    "fund_sum['average_invested'] = round(fund_sum.average_invested)"
   ]
  },
  {
   "cell_type": "code",
   "execution_count": 98,
   "metadata": {},
   "outputs": [
    {
     "data": {
      "text/html": [
       "<div>\n",
       "<style scoped>\n",
       "    .dataframe tbody tr th:only-of-type {\n",
       "        vertical-align: middle;\n",
       "    }\n",
       "\n",
       "    .dataframe tbody tr th {\n",
       "        vertical-align: top;\n",
       "    }\n",
       "\n",
       "    .dataframe thead th {\n",
       "        text-align: right;\n",
       "    }\n",
       "</style>\n",
       "<table border=\"1\" class=\"dataframe\">\n",
       "  <thead>\n",
       "    <tr style=\"text-align: right;\">\n",
       "      <th></th>\n",
       "      <th>funding_round_type</th>\n",
       "      <th>sum_invested</th>\n",
       "      <th>average_invested</th>\n",
       "      <th>fraction</th>\n",
       "    </tr>\n",
       "  </thead>\n",
       "  <tbody>\n",
       "    <tr>\n",
       "      <th>0</th>\n",
       "      <td>angel</td>\n",
       "      <td>495.789543</td>\n",
       "      <td>7.0</td>\n",
       "      <td>0.34</td>\n",
       "    </tr>\n",
       "    <tr>\n",
       "      <th>2</th>\n",
       "      <td>seed</td>\n",
       "      <td>1246.463278</td>\n",
       "      <td>7.0</td>\n",
       "      <td>0.85</td>\n",
       "    </tr>\n",
       "    <tr>\n",
       "      <th>1</th>\n",
       "      <td>private_equity</td>\n",
       "      <td>3758.286497</td>\n",
       "      <td>9.0</td>\n",
       "      <td>2.56</td>\n",
       "    </tr>\n",
       "    <tr>\n",
       "      <th>3</th>\n",
       "      <td>venture</td>\n",
       "      <td>141351.620946</td>\n",
       "      <td>9.0</td>\n",
       "      <td>96.25</td>\n",
       "    </tr>\n",
       "  </tbody>\n",
       "</table>\n",
       "</div>"
      ],
      "text/plain": [
       "  funding_round_type   sum_invested  average_invested  fraction\n",
       "0              angel     495.789543               7.0      0.34\n",
       "2               seed    1246.463278               7.0      0.85\n",
       "1     private_equity    3758.286497               9.0      2.56\n",
       "3            venture  141351.620946               9.0     96.25"
      ]
     },
     "execution_count": 98,
     "metadata": {},
     "output_type": "execute_result"
    }
   ],
   "source": [
    "fund_sum.sort_values(by='fraction')"
   ]
  },
  {
   "cell_type": "code",
   "execution_count": 99,
   "metadata": {},
   "outputs": [
    {
     "data": {
      "image/png": "[encoded data removed]",
      "text/plain": [
       "<Figure size 432x288 with 1 Axes>"
      ]
     },
     "metadata": {
      "needs_background": "light"
     },
     "output_type": "display_data"
    }
   ],
   "source": [
    "\n",
    "#sns.barplot(data=fund_sum, y=\"sum_invested\", x='fraction')\n",
    "fraction_plot = sns.barplot(x=\"funding_round_type\", y=\"fraction\", hue=\"average_invested\", data=fund_sum)\n",
    "fraction_plot.set_title(\"Fraction of total investment in 4 fund types\")\n",
    "fraction_plot.set(yscale=\"log\")\n",
    "plt.show()"
   ]
  },
  {
   "cell_type": "code",
   "execution_count": 100,
   "metadata": {},
   "outputs": [
    {
     "data": {
      "image/png": "[encoded data removed]",
      "text/plain": [
       "<Figure size 432x288 with 1 Axes>"
      ]
     },
     "metadata": {
      "needs_background": "light"
     },
     "output_type": "display_data"
    }
   ],
   "source": [
    "# top 9 country plot\n",
    "\n",
    "country_top9_df.head()\n",
    "\n",
    "top_sectors = sns.barplot(x=\"country\", y=\"Amount_raised_usd_mil\", data=country_top9_df, estimator=np.sum)\n",
    "top_sectors.set_title(\"Venture Type Investment in Top 9 countries\")\n",
    "top_sectors.set_ylabel(\"Amount raised USD in Trillions\")\n",
    "top_sectors.set(yscale=\"log\")\n",
    "\n",
    "plt.show()"
   ]
  },
  {
   "cell_type": "code",
   "execution_count": null,
   "metadata": {},
   "outputs": [],
   "source": [
    "\n"
   ]
  },
  {
   "cell_type": "code",
   "execution_count": 101,
   "metadata": {},
   "outputs": [
    {
     "data": {
      "text/html": [
       "<div>\n",
       "<style scoped>\n",
       "    .dataframe tbody tr th:only-of-type {\n",
       "        vertical-align: middle;\n",
       "    }\n",
       "\n",
       "    .dataframe tbody tr th {\n",
       "        vertical-align: top;\n",
       "    }\n",
       "\n",
       "    .dataframe thead th {\n",
       "        text-align: right;\n",
       "    }\n",
       "</style>\n",
       "<table border=\"1\" class=\"dataframe\">\n",
       "  <thead>\n",
       "    <tr style=\"text-align: right;\">\n",
       "      <th></th>\n",
       "      <th>company_permalink</th>\n",
       "      <th>funding_round_permalink</th>\n",
       "      <th>funding_round_type</th>\n",
       "      <th>funding_round_code</th>\n",
       "      <th>funded_at</th>\n",
       "      <th>raised_amount_usd</th>\n",
       "      <th>permalink</th>\n",
       "      <th>name</th>\n",
       "      <th>category_list</th>\n",
       "      <th>status</th>\n",
       "      <th>country_code</th>\n",
       "      <th>raised_amount_usd_millions</th>\n",
       "      <th>primary_sector</th>\n",
       "    </tr>\n",
       "  </thead>\n",
       "  <tbody>\n",
       "    <tr>\n",
       "      <th>0</th>\n",
       "      <td>/organization/-fame</td>\n",
       "      <td>/funding-round/9a01d05418af9f794eebff7ace91f638</td>\n",
       "      <td>venture</td>\n",
       "      <td>B</td>\n",
       "      <td>05-01-2015</td>\n",
       "      <td>10000000.0</td>\n",
       "      <td>/organization/-fame</td>\n",
       "      <td>#fame</td>\n",
       "      <td>Media</td>\n",
       "      <td>operating</td>\n",
       "      <td>IND</td>\n",
       "      <td>10.000000</td>\n",
       "      <td>media</td>\n",
       "    </tr>\n",
       "    <tr>\n",
       "      <th>12</th>\n",
       "      <td>/organization/0xdata</td>\n",
       "      <td>/funding-round/e1cfcbe1bdf4c70277c5f29a3482f24e</td>\n",
       "      <td>venture</td>\n",
       "      <td>A</td>\n",
       "      <td>19-07-2014</td>\n",
       "      <td>8900000.0</td>\n",
       "      <td>/organization/0xdata</td>\n",
       "      <td>H2O.ai</td>\n",
       "      <td>Analytics</td>\n",
       "      <td>operating</td>\n",
       "      <td>USA</td>\n",
       "      <td>8.900000</td>\n",
       "      <td>analytics</td>\n",
       "    </tr>\n",
       "    <tr>\n",
       "      <th>21</th>\n",
       "      <td>/organization/1-800-publicrelations-inc-</td>\n",
       "      <td>/funding-round/11c228f58831bc7ed337ef69ecc560c2</td>\n",
       "      <td>private_equity</td>\n",
       "      <td>NaN</td>\n",
       "      <td>01-02-2015</td>\n",
       "      <td>6000000.0</td>\n",
       "      <td>/organization/1-800-publicrelations-inc-</td>\n",
       "      <td>1-800-PublicRelations, Inc.</td>\n",
       "      <td>Internet Marketing|Media|Public Relations</td>\n",
       "      <td>operating</td>\n",
       "      <td>USA</td>\n",
       "      <td>6.000000</td>\n",
       "      <td>internet marketing</td>\n",
       "    </tr>\n",
       "    <tr>\n",
       "      <th>22</th>\n",
       "      <td>/organization/1-mainstream</td>\n",
       "      <td>/funding-round/b952cbaf401f310927430c97b68162ea</td>\n",
       "      <td>venture</td>\n",
       "      <td>NaN</td>\n",
       "      <td>17-03-2015</td>\n",
       "      <td>5000000.0</td>\n",
       "      <td>/organization/1-mainstream</td>\n",
       "      <td>1 Mainstream</td>\n",
       "      <td>Apps|Cable|Distribution|Software</td>\n",
       "      <td>acquired</td>\n",
       "      <td>USA</td>\n",
       "      <td>5.000000</td>\n",
       "      <td>apps</td>\n",
       "    </tr>\n",
       "    <tr>\n",
       "      <th>46</th>\n",
       "      <td>/organization/1001-menus</td>\n",
       "      <td>/funding-round/645b4cd895450b8e0268027cd7813047</td>\n",
       "      <td>venture</td>\n",
       "      <td>B</td>\n",
       "      <td>04-11-2015</td>\n",
       "      <td>6602694.0</td>\n",
       "      <td>/organization/1001-menus</td>\n",
       "      <td>ZenChef</td>\n",
       "      <td>Local Businesses|Restaurants</td>\n",
       "      <td>operating</td>\n",
       "      <td>FRA</td>\n",
       "      <td>6.602694</td>\n",
       "      <td>local businesses</td>\n",
       "    </tr>\n",
       "  </tbody>\n",
       "</table>\n",
       "</div>"
      ],
      "text/plain": [
       "                           company_permalink  \\\n",
       "0                        /organization/-fame   \n",
       "12                      /organization/0xdata   \n",
       "21  /organization/1-800-publicrelations-inc-   \n",
       "22                /organization/1-mainstream   \n",
       "46                  /organization/1001-menus   \n",
       "\n",
       "                            funding_round_permalink funding_round_type  \\\n",
       "0   /funding-round/9a01d05418af9f794eebff7ace91f638            venture   \n",
       "12  /funding-round/e1cfcbe1bdf4c70277c5f29a3482f24e            venture   \n",
       "21  /funding-round/11c228f58831bc7ed337ef69ecc560c2     private_equity   \n",
       "22  /funding-round/b952cbaf401f310927430c97b68162ea            venture   \n",
       "46  /funding-round/645b4cd895450b8e0268027cd7813047            venture   \n",
       "\n",
       "   funding_round_code   funded_at  raised_amount_usd  \\\n",
       "0                   B  05-01-2015         10000000.0   \n",
       "12                  A  19-07-2014          8900000.0   \n",
       "21                NaN  01-02-2015          6000000.0   \n",
       "22                NaN  17-03-2015          5000000.0   \n",
       "46                  B  04-11-2015          6602694.0   \n",
       "\n",
       "                                   permalink                         name  \\\n",
       "0                        /organization/-fame                        #fame   \n",
       "12                      /organization/0xdata                       H2O.ai   \n",
       "21  /organization/1-800-publicrelations-inc-  1-800-PublicRelations, Inc.   \n",
       "22                /organization/1-mainstream                 1 Mainstream   \n",
       "46                  /organization/1001-menus                      ZenChef   \n",
       "\n",
       "                                category_list     status country_code  \\\n",
       "0                                       Media  operating          IND   \n",
       "12                                  Analytics  operating          USA   \n",
       "21  Internet Marketing|Media|Public Relations  operating          USA   \n",
       "22           Apps|Cable|Distribution|Software   acquired          USA   \n",
       "46               Local Businesses|Restaurants  operating          FRA   \n",
       "\n",
       "    raised_amount_usd_millions      primary_sector  \n",
       "0                    10.000000               media  \n",
       "12                    8.900000           analytics  \n",
       "21                    6.000000  internet marketing  \n",
       "22                    5.000000                apps  \n",
       "46                    6.602694    local businesses  "
      ]
     },
     "execution_count": 101,
     "metadata": {},
     "output_type": "execute_result"
    }
   ],
   "source": [
    "master_df_sorted.head()"
   ]
  },
  {
   "cell_type": "code",
   "execution_count": 102,
   "metadata": {},
   "outputs": [],
   "source": [
    "master_3topsec = master_df_sector[master_df_sector['main_sector'].isin(['Others','Social, Finance, Analytics, Advertising','Cleantech / Semiconductors'])]"
   ]
  },
  {
   "cell_type": "code",
   "execution_count": 103,
   "metadata": {},
   "outputs": [
    {
     "data": {
      "image/png": "[encoded data removed]",
      "text/plain": [
       "<Figure size 432x288 with 1 Axes>"
      ]
     },
     "metadata": {
      "needs_background": "light"
     },
     "output_type": "display_data"
    }
   ],
   "source": [
    "top3_sectors = sns.barplot(x='country_code', y='raised_amount_usd_millions', hue='main_sector', data=master_3topsec, estimator=lambda x:len(x))\n",
    "top3_sectors.set_title('Top 3 Sectors Vs Top3 Countries')\n",
    "top3_sectors.set_ylabel('Amount raised in USD Millions')\n",
    "#top3_sectors.set(yscale=\"log\")\n",
    "plt.show()"
   ]
  },
  {
   "cell_type": "code",
   "execution_count": null,
   "metadata": {},
   "outputs": [],
   "source": []
  },
  {
   "cell_type": "code",
   "execution_count": null,
   "metadata": {},
   "outputs": [],
   "source": []
  },
  {
   "cell_type": "code",
   "execution_count": null,
   "metadata": {},
   "outputs": [],
   "source": []
  }
 ],
 "metadata": {
  "kernelspec": {
   "display_name": "Python 3",
   "language": "python",
   "name": "python3"
  },
  "language_info": {
   "codemirror_mode": {
    "name": "ipython",
    "version": 3
   },
   "file_extension": ".py",
   "mimetype": "text/x-python",
   "name": "python",
   "nbconvert_exporter": "python",
   "pygments_lexer": "ipython3",
   "version": "3.7.6"
  }
 },
 "nbformat": 4,
 "nbformat_minor": 4
}
